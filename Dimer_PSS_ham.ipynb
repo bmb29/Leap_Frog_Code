{
 "cells": [
  {
   "cell_type": "markdown",
   "metadata": {},
   "source": [
    "\n",
    "# Comparasion of Different Canonical Coordinates\n",
    "## Author\n",
    "Brandon Behring\n",
    "\n",
    "W\n"
   ]
  },
  {
   "cell_type": "code",
   "execution_count": 14,
   "metadata": {},
   "outputs": [
    {
     "data": {
      "text/plain": [
       "0.2886751345948129"
      ]
     },
     "execution_count": 14,
     "metadata": {},
     "output_type": "execute_result"
    }
   ],
   "source": [
    "using DifferentialEquations\n",
    "using PyCall\n",
    "# pygui(:qt)\n",
    "using PyPlot\n",
    "include(\"PSS_Definitions_Dimer_X.jl\")\n",
    "# pygui(true);\n",
    "using Roots\n",
    "\n",
    "function Q1_find_dimer(Q2,P2,H_dimer)\n",
    "    Q1_to_find(Q1)=Hamiltonian_Dimer([Q1,Q2],[0,P2],1)-H_dimer\n",
    "    try\n",
    "        Q1=find_zeros(Q1_to_find,0,10,maxeval=100,maxfnevals=300,tol=1e-15)\n",
    "     catch\n",
    "        Q1=zeros(0)\n",
    "    end\n",
    "end\n",
    "H=.1\n",
    "Yfind(h)=sqrt(h/(2h+1));\n",
    "P=Yfind(H)"
   ]
  },
  {
   "cell_type": "code",
   "execution_count": 2,
   "metadata": {},
   "outputs": [],
   "source": [
    "# Y=Yfind(H)0.23529411764705893\n",
    "# P=.1\n",
    "# Q1=Q1_find_dimer(1.5,0,H)\n",
    "t_end=100000.0;\n",
    "q0,p0=[zeros(2) for i in 1:2]\n",
    "q0[1]=0; \n",
    "q0[2]=0; \n",
    "p0[1]=P; \n",
    "p0[2]=P;\n"
   ]
  },
  {
   "cell_type": "code",
   "execution_count": 3,
   "metadata": {},
   "outputs": [
    {
     "name": "stdout",
     "output_type": "stream",
     "text": [
      "106.711116 seconds (842.16 M allocations: 21.894 GiB, 56.15% gc time)\n"
     ]
    }
   ],
   "source": [
    "prob= HamiltonianProblem{true}(Hamiltonian_Dimer, q0, p0, (0., t_end));\n",
    "@time t,A=solve(prob, Vern9(),reltol=1e-13,abstol=1e-15,maxiters=1e15);"
   ]
  },
  {
   "cell_type": "code",
   "execution_count": 4,
   "metadata": {},
   "outputs": [],
   "source": [
    "q1=A[1,:]\n",
    "q2=A[2,:]\n",
    "p1=A[3,:]\n",
    "p2=A[4,:];"
   ]
  },
  {
   "cell_type": "code",
   "execution_count": 5,
   "metadata": {},
   "outputs": [],
   "source": [
    "Q1=(q1+q2)/sqrt(2)\n",
    "Q2=(q1-q2)/sqrt(2)\n",
    "P1=(p1+p2)/sqrt(2)\n",
    "P2=(p1-p2)/sqrt(2);"
   ]
  },
  {
   "cell_type": "code",
   "execution_count": 6,
   "metadata": {},
   "outputs": [
    {
     "data": {
      "text/plain": [
       "Figure(PyObject <Figure size 640x480 with 1 Axes>)"
      ]
     },
     "metadata": {},
     "output_type": "display_data"
    }
   ],
   "source": [
    "figure()\n",
    "plot(q1,p1,\"b\",linewidth=.1)\n",
    "plot(q2,p2,\"r\",linewidth=.1);"
   ]
  },
  {
   "cell_type": "code",
   "execution_count": 7,
   "metadata": {},
   "outputs": [
    {
     "data": {
      "text/plain": [
       "Figure(PyObject <Figure size 640x480 with 1 Axes>)"
      ]
     },
     "metadata": {},
     "output_type": "display_data"
    }
   ],
   "source": [
    "figure()\n",
    "plot(Q1,P1,\"b\",linewidth=.1)\n",
    "plot(Q2,P2,\"r\",linewidth=.1);"
   ]
  },
  {
   "cell_type": "code",
   "execution_count": 13,
   "metadata": {},
   "outputs": [
    {
     "name": "stdout",
     "output_type": "stream",
     "text": [
      "  1.616018 seconds (31.51 M allocations: 753.146 MiB, 33.98% gc time)\n"
     ]
    },
    {
     "data": {
      "image/png": "[encoded data removed]",
      "text/plain": [
       "Figure(PyObject <Figure size 640x480 with 1 Axes>)"
      ]
     },
     "metadata": {},
     "output_type": "display_data"
    },
    {
     "name": "stdout",
     "output_type": "stream",
     "text": [
      "  1.604905 seconds (31.50 M allocations: 753.004 MiB, 33.36% gc time)\n"
     ]
    }
   ],
   "source": [
    "t_end=1e3;\n",
    "@time Q_PSS,P_PSS=PSS_function( q0[2], p0[2]+.00001, H, t_end);\n",
    "plot(Q_PSS,P_PSS,\".\", markersize=4, c\n",
    "    =\"k\")\n",
    "@time Q_PSS,P_PSS=PSS_function( q0[2],-(p0[2]+.00001), H, t_end);\n",
    "plot(Q_PSS,P_PSS,\".\", markersize=4, c\n",
    "    =\"k\");"
   ]
  },
  {
   "cell_type": "code",
   "execution_count": 9,
   "metadata": {},
   "outputs": [],
   "source": [
    "N_iter_Q=50;#50\n",
    "Q_start=-.3\n",
    "Q_end=.3\n",
    "N_iter_P=100\n",
    "P_start=-.9\n",
    "P_end=.9\n",
    "\n",
    "ArrP=range(P_start,stop=P_end,length=N_iter_P)\n",
    "ArrQ=range(Q_start,stop=Q_end,length=N_iter_Q)\n",
    "Brandons_Colors=[\"#393b79\" ,\"#5254a3\",\"#6b6ecf\",\"#9c9ede\" ,\"#637939\",\"#8ca252\" ,\"#b5cf6b\" ,\"#cedb9c\" ,\"#8c6d31\",\"#bd9e39\" ,\"#e7ba52\",\"#e7cb94\",\"#843c39\",\"#ad494a\" ,\"#d6616b\",\"#e7969c\" ,\"#7b4173\" ,\"#a55194\",\"#ce6dbd\" ,\"#de9ed6\"];"
   ]
  },
  {
   "cell_type": "code",
   "execution_count": 10,
   "metadata": {},
   "outputs": [
    {
     "ename": "ErrorException",
     "evalue": "cannot assign variable Base.count from module Main",
     "output_type": "error",
     "traceback": [
      "cannot assign variable Base.count from module Main",
      "",
      "Stacktrace:",
      " [1] macro expansion at ./In[10]:3 [inlined]",
      " [2] macro expansion at ./util.jl:156 [inlined]",
      " [3] top-level scope at ./In[10]:2 [inlined]",
      " [4] top-level scope at ./none:0"
     ]
    }
   ],
   "source": [
    "figure()\n",
    "@time for k=1:N_iter_P\n",
    "    global count=1\n",
    "    Q_PSS,P_PSS=PSS_function( 0, ArrP[k], H, t_end,count);       \n",
    "    current_color=Brandons_Colors[mod(k,length(Brandons_Colors))+1]\n",
    "    if Q_PSS!=0\n",
    "         plot(Q_PSS,P_PSS,\".\", markersize=.1,c=current_color);\n",
    "    end\n",
    "end"
   ]
  },
  {
   "cell_type": "code",
   "execution_count": null,
   "metadata": {},
   "outputs": [],
   "source": [
    " "
   ]
  }
 ],
 "metadata": {
  "@webio": {
   "lastCommId": null,
   "lastKernelId": null
  },
  "kernelspec": {
   "display_name": "Julia 1.1.1",
   "language": "julia",
   "name": "julia-1.1"
  },
  "language_info": {
   "file_extension": ".jl",
   "mimetype": "application/julia",
   "name": "julia",
   "version": "1.1.1"
  }
 },
 "nbformat": 4,
 "nbformat_minor": 2
}
