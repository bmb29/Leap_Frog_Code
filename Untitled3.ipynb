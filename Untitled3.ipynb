{
 "cells": [
  {
   "cell_type": "code",
   "execution_count": 7,
   "metadata": {},
   "outputs": [
    {
     "name": "stderr",
     "output_type": "stream",
     "text": [
      "WARNING: replacing module escape_dimer.\n"
     ]
    }
   ],
   "source": [
    "using PyCall\n",
    "pygui(:qt)\n",
    "using PyPlot\n",
    "pygui(true)\n",
    "using PolynomialRoots\n",
    "include(\"Q1_trajectories.jl\")\n",
    "include(\"escape_dimer.jl\")\n",
    "include(\"forward_one.jl\")\n",
    "using .escape_dimer\n",
    "t_end=1e4\n",
    "H=.25;"
   ]
  },
  {
   "cell_type": "code",
   "execution_count": 8,
   "metadata": {},
   "outputs": [
    {
     "name": "stdout",
     "output_type": "stream",
     "text": [
      "2.0\n",
      "0.0\n",
      "2.0\n",
      "0.0\n",
      "(2.0, 0.0)\n"
     ]
    },
    {
     "data": {
      "text/plain": [
       "(-6.555186080005616e-17, 0.8157192011492959, 0.4476100565510886, 0.3644758638318107)"
      ]
     },
     "execution_count": 8,
     "metadata": {},
     "output_type": "execute_result"
    }
   ],
   "source": [
    "figure()\n",
    "Q=1\n",
    "P=2\n",
    "point=[Q,P]\n",
    "Tf,Qf,hit_f,Tb,Qb,hit_b=Q1_trajectories(Q,P,t_end,H,true)\n",
    "println(hit_f)\n",
    "println(hit_b)\n",
    "\n",
    "plot(Tf,Qf)\n",
    "plot(-Tb,Qb)\n",
    "Tfp,Qfp,hit_f,Tbp,Qbp,hit_b=Q1_trajectories(Q,P,t_end,H,false)\n",
    "println(hit_f)\n",
    "println(hit_b)\n",
    "\n",
    "plot(Tfp,Qfp,\".\")\n",
    "plot(-Tbp,Qbp,\".\");\n",
    "println(escape_dimer.escape_exit_num_dimer(point,t_end,H))\n",
    "\n",
    "q1, q2, p1, p2=forward_one(Q,P, t_end, H)"
   ]
  },
  {
   "cell_type": "code",
   "execution_count": 3,
   "metadata": {},
   "outputs": [
    {
     "name": "stdout",
     "output_type": "stream",
     "text": [
      "1.0\n",
      "1.0\n"
     ]
    },
    {
     "data": {
      "text/plain": [
       "(2.0650513858155394e-17, -1.1556373932640476, 0.48322520607651037, 1.0656440806637748)"
      ]
     },
     "execution_count": 3,
     "metadata": {},
     "output_type": "execute_result"
    }
   ],
   "source": [
    "figure()\n",
    "Tf,Qf,hit_f,Tb,Qb,hit_b=Q1_trajectories(q2,p2,t_end,H,true)\n",
    "println(hit_f)\n",
    "println(hit_b)\n",
    "\n",
    "plot(Tf,Qf)\n",
    "plot(-Tb,Qb)\n",
    "Tf,Qf,hit_f,Tb,Qb,hit_b=Q1_trajectories(q2,p2,t_end,H,false)\n",
    "println(hit_f)\n",
    "println(hit_b)\n",
    "\n",
    "plot(Tfp,Qfp,\".\")\n",
    "plot(-Tbp,Qbp,\".\");\n",
    "println(escape_dimer.escape_exit_num_dimer([q1,p1],t_end,H))\n",
    "\n",
    "q1, q2, p1, p2=forward_one(q2,p2, t_end, H)"
   ]
  },
  {
   "cell_type": "code",
   "execution_count": 4,
   "metadata": {},
   "outputs": [
    {
     "name": "stdout",
     "output_type": "stream",
     "text": [
      "0.0\n",
      "2.0\n"
     ]
    },
    {
     "ename": "MethodError",
     "evalue": "MethodError: no method matching iterate(::Nothing)\nClosest candidates are:\n  iterate(!Matched::Core.SimpleVector) at essentials.jl:604\n  iterate(!Matched::Core.SimpleVector, !Matched::Any) at essentials.jl:604\n  iterate(!Matched::ExponentialBackOff) at error.jl:214\n  ...",
     "output_type": "error",
     "traceback": [
      "MethodError: no method matching iterate(::Nothing)\nClosest candidates are:\n  iterate(!Matched::Core.SimpleVector) at essentials.jl:604\n  iterate(!Matched::Core.SimpleVector, !Matched::Any) at essentials.jl:604\n  iterate(!Matched::ExponentialBackOff) at error.jl:214\n  ...",
      "",
      "Stacktrace:",
      " [1] indexed_iterate(::Nothing, ::Int64) at ./tuple.jl:66",
      " [2] top-level scope at In[4]:8"
     ]
    }
   ],
   "source": [
    "figure()\n",
    "Tf,Qf,hit_f,Tb,Qb,hit_b=Q1_trajectories(q2,p2,t_end,H,true)\n",
    "println(hit_f)\n",
    "println(hit_b)\n",
    "\n",
    "plot(Tf,Qf)\n",
    "plot(-Tb,Qb)\n",
    "\n",
    "Tf,Qf,hit_f,Tb,Qb,hit_b=Q1_trajectories(q2,p2,t_end,H,false)\n",
    "println(hit_f)\n",
    "println(hit_b)\n",
    "\n",
    "plot(Tfp,Qfp,\".\")\n",
    "plot(-Tbp,Qbp,\".\");\n",
    "\n",
    "\n",
    "q1, q2, p1, p2=forward_one(q2,p2, t_end, H)"
   ]
  },
  {
   "cell_type": "code",
   "execution_count": 5,
   "metadata": {},
   "outputs": [
    {
     "name": "stdout",
     "output_type": "stream",
     "text": [
      "0.0\n",
      "2.0\n"
     ]
    },
    {
     "ename": "MethodError",
     "evalue": "MethodError: no method matching iterate(::Nothing)\nClosest candidates are:\n  iterate(!Matched::Core.SimpleVector) at essentials.jl:604\n  iterate(!Matched::Core.SimpleVector, !Matched::Any) at essentials.jl:604\n  iterate(!Matched::ExponentialBackOff) at error.jl:214\n  ...",
     "output_type": "error",
     "traceback": [
      "MethodError: no method matching iterate(::Nothing)\nClosest candidates are:\n  iterate(!Matched::Core.SimpleVector) at essentials.jl:604\n  iterate(!Matched::Core.SimpleVector, !Matched::Any) at essentials.jl:604\n  iterate(!Matched::ExponentialBackOff) at error.jl:214\n  ...",
      "",
      "Stacktrace:",
      " [1] indexed_iterate(::Nothing, ::Int64) at ./tuple.jl:66",
      " [2] top-level scope at In[5]:8"
     ]
    }
   ],
   "source": [
    "figure()\n",
    "Tf,Qf,hit_f,Tb,Qb,hit_b=Q1_trajectories(q2,p2,t_end,H,true)\n",
    "println(hit_f)\n",
    "println(hit_b)\n",
    "\n",
    "plot(Tf,Qf)\n",
    "plot(-Tb,Qb)\n",
    "q1, q2, p1, p2=forward_one(q2,p2, t_end, H)"
   ]
  },
  {
   "cell_type": "code",
   "execution_count": 6,
   "metadata": {},
   "outputs": [
    {
     "data": {
      "text/plain": [
       "1-element Array{PyObject,1}:\n",
       " PyObject <matplotlib.lines.Line2D object at 0x7fecaf20add8>"
      ]
     },
     "execution_count": 6,
     "metadata": {},
     "output_type": "execute_result"
    }
   ],
   "source": [
    "plot(Tb,Qb)"
   ]
  },
  {
   "cell_type": "code",
   "execution_count": null,
   "metadata": {},
   "outputs": [],
   "source": []
  }
 ],
 "metadata": {
  "kernelspec": {
   "display_name": "Julia 1.2.0",
   "language": "julia",
   "name": "julia-1.2"
  },
  "language_info": {
   "file_extension": ".jl",
   "mimetype": "application/julia",
   "name": "julia",
   "version": "1.2.0"
  }
 },
 "nbformat": 4,
 "nbformat_minor": 2
}
