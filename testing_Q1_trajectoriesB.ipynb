{
 "cells": [
  {
   "cell_type": "code",
   "execution_count": 1,
   "metadata": {},
   "outputs": [],
   "source": [
    "using PyCall\n",
    "# pygui(:qt)\n",
    "using PyPlot\n",
    "# pygui(true)\n",
    "using PolynomialRoots\n",
    "include(\"Q1_trajectories.jl\")\n",
    "include(\"escape_dimer.jl\")\n",
    "include(\"forward_one.jl\")\n",
    "include(\"back_one.jl\")\n",
    "using .escape_dimer\n",
    "t_end=1e3\n",
    "H=.25;\n"
   ]
  },
  {
   "cell_type": "code",
   "execution_count": 2,
   "metadata": {},
   "outputs": [
    {
     "data": {
      "text/plain": [
       "(1.3514900778940218e-15, 0.5944719577536395, 0.3906316456320627, 0.4272426591814827)"
      ]
     },
     "execution_count": 2,
     "metadata": {},
     "output_type": "execute_result"
    }
   ],
   "source": [
    "Prior_1=(1.1111111111111112, 1.7142857142857142)\n",
    "\n",
    "Point_1=(1.3514900778940218e-15, 0.5944719577536395, 0.3906316456320627, 0.4272426591814827);\n"
   ]
  },
  {
   "cell_type": "code",
   "execution_count": 6,
   "metadata": {},
   "outputs": [
    {
     "name": "stdout",
     "output_type": "stream",
     "text": [
      "  0.112668 seconds (1.97 M allocations: 43.571 MiB, 51.81% gc time)\n"
     ]
    },
    {
     "data": {
      "text/plain": [
       "(0.0, 0.0)"
      ]
     },
     "execution_count": 6,
     "metadata": {},
     "output_type": "execute_result"
    }
   ],
   "source": [
    "q2=Point_1[2]\n",
    "p2=Point_1[4]\n",
    "# q2=Prior_1[1]\n",
    "# p2=Prior_1[2]\n",
    "P1_prior=P1_poly(q2,p2,H)  \n",
    "\n",
    "@time escape_dimer.escape_exit_num_dimer([q2,p2],t_end,H)"
   ]
  },
  {
   "cell_type": "code",
   "execution_count": 89,
   "metadata": {},
   "outputs": [
    {
     "data": {
      "text/plain": [
       "0.794616988380278"
      ]
     },
     "execution_count": 89,
     "metadata": {},
     "output_type": "execute_result"
    }
   ],
   "source": []
  },
  {
   "cell_type": "code",
   "execution_count": 8,
   "metadata": {
    "scrolled": true
   },
   "outputs": [
    {
     "name": "stdout",
     "output_type": "stream",
     "text": [
      "0.0\n",
      "7.0\n"
     ]
    },
    {
     "data": {
      "image/png": "[encoded data removed]",
      "text/plain": [
       "Figure(PyObject <Figure size 640x480 with 1 Axes>)"
      ]
     },
     "metadata": {},
     "output_type": "display_data"
    },
    {
     "name": "stdout",
     "output_type": "stream",
     "text": [
      "0.0\n",
      "7.0\n"
     ]
    }
   ],
   "source": [
    "figure()\n",
    "Tf,Qf,hit_f,Tb,Qb,hit_b=Q1_trajectories(q2,p2,t_end,H,true)\n",
    "println(hit_f)\n",
    "println(hit_b)\n",
    "\n",
    "plot(Tf,Qf)\n",
    "plot(-Tb,Qb)\n",
    "Tfp,Qfp,hit_f,Tbp,Qbp,hit_b=Q1_trajectories(q2,p2,t_end,H,false)\n",
    "println(hit_f)\n",
    "println(hit_b)   \n",
    "\n",
    "\n",
    "plot(Tfp,Qfp,\".\")\n",
    "plot(-Tbp,Qbp,\".\");\n",
    "# println(escape_dimer.escape_exit_num_dimer([Q,P],t_end,H))\n",
    "# q1, q2, p1, p2=forward_one(q2,p2, t_end, H)\n",
    "\n",
    "# P1_after=P1_poly(q2,p2,H)  \n",
    "# (q2-Point_1[2],p2-Point_1[4])\n",
    "# println(p1)\n",
    "# println(P1_after)"
   ]
  },
  {
   "cell_type": "code",
   "execution_count": 15,
   "metadata": {},
   "outputs": [
    {
     "data": {
      "text/plain": [
       "4-element Array{Float64,1}:\n",
       " 15.374356825214509\n",
       " 15.374356825214509\n",
       " 34.67452898447558 \n",
       " 34.67452898447558 "
      ]
     },
     "execution_count": 15,
     "metadata": {},
     "output_type": "execute_result"
    }
   ],
   "source": [
    "Tfp"
   ]
  },
  {
   "cell_type": "code",
   "execution_count": 87,
   "metadata": {},
   "outputs": [
    {
     "name": "stdout",
     "output_type": "stream",
     "text": [
      "1.0\n",
      "10.0\n",
      "1.0\n",
      "10.0\n",
      "(1.0, 10.0)\n"
     ]
    },
    {
     "data": {
      "text/plain": [
       "(-0.2547838359854768, 0.15175984552313515)"
      ]
     },
     "execution_count": 87,
     "metadata": {},
     "output_type": "execute_result"
    }
   ],
   "source": [
    "figure()\n",
    "Tf,Qf,hit_f,Tb,Qb,hit_b=Q1_trajectories(q2,p2,t_end,H,true)\n",
    "println(hit_f)\n",
    "println(hit_b)\n",
    "\n",
    "plot(Tf,Qf)\n",
    "plot(-Tb,Qb)\n",
    "Tfp,Qfp,hit_f,Tbp,Qbp,hit_b=Q1_trajectories(q2,p2,t_end,H,false)\n",
    "println(hit_f)\n",
    "println(hit_b)\n",
    "\n",
    "plot(Tfp,Qfp,\".\")\n",
    "plot(-Tbp,Qbp,\".\");\n",
    "println(escape_dimer.escape_exit_num_dimer([q2,p2],t_end,H))\n",
    "q1, q2, p1, p2=back_one(q2,p2, t_end, H)\n",
    "(q2-Prior_1[1],p2-Prior_1[2])"
   ]
  },
  {
   "cell_type": "code",
   "execution_count": 79,
   "metadata": {},
   "outputs": [
    {
     "data": {
      "text/plain": [
       "(-0.8709172776741922, 0.440278090251924)"
      ]
     },
     "execution_count": 79,
     "metadata": {},
     "output_type": "execute_result"
    }
   ],
   "source": [
    "q2,p2"
   ]
  },
  {
   "cell_type": "code",
   "execution_count": 35,
   "metadata": {},
   "outputs": [
    {
     "name": "stdout",
     "output_type": "stream",
     "text": [
      "1.0\n",
      "7.0\n",
      "1.0\n",
      "7.0\n",
      "-1\n"
     ]
    },
    {
     "data": {
      "text/plain": [
       "(2.558766353149489e-16, 0.9000000000000203, 0.3396164852817467, 0.9000000000000188)"
      ]
     },
     "execution_count": 35,
     "metadata": {},
     "output_type": "execute_result"
    }
   ],
   "source": [
    "figure()\n",
    "Tf,Qf,hit_f,Tb,Qb,hit_b=Q1_trajectories(q2,p2,t_end,H,true)\n",
    "println(hit_f)\n",
    "println(hit_b)\n",
    "\n",
    "plot(Tf,Qf)\n",
    "plot(-Tb,Qb)\n",
    "\n",
    "Tfp,Qfp,hit_f,Tbp,Qbp,hit_b=Q1_trajectories(q2,p2,t_end,H,false)\n",
    "println(hit_f)\n",
    "println(hit_b)\n",
    "\n",
    "plot(Tfp,Qfp,\".\")\n",
    "plot(-Tbp,Qbp,\".\");\n",
    "println(escape_dimer.escape_exit_num_dimer([q2,p2],t_end,H))\n",
    "\n",
    "\n",
    "q1, q2, p1, p2=back_one(q2,p2, t_end, H)"
   ]
  },
  {
   "cell_type": "code",
   "execution_count": 36,
   "metadata": {},
   "outputs": [
    {
     "name": "stdout",
     "output_type": "stream",
     "text": [
      "2.0\n",
      "7.0\n"
     ]
    },
    {
     "data": {
      "text/plain": [
       "(-6.392336628457695e-15, 0.6794610548077985, 0.3184729031545026, 2.0592042629090463)"
      ]
     },
     "execution_count": 36,
     "metadata": {},
     "output_type": "execute_result"
    }
   ],
   "source": [
    "figure()\n",
    "Tf,Qf,hit_f,Tb,Qb,hit_b=Q1_trajectories(q2,p2,t_end,H,true)\n",
    "println(hit_f)\n",
    "println(hit_b)\n",
    "Tfp,Qfp,hit_f,Tbp,Qbp,hit_b=Q1_trajectories(q2,p2,t_end,H,false)\n",
    "plot(Tf,Qf)\n",
    "plot(-Tb,Qb)\n",
    "plot(Tfp,Qfp,\".\")\n",
    "plot(-Tbp,Qbp,\".\");\n",
    "q1, q2, p1, p2=back_one(q2,p2, t_end, H)"
   ]
  },
  {
   "cell_type": "code",
   "execution_count": 10,
   "metadata": {},
   "outputs": [
    {
     "name": "stdout",
     "output_type": "stream",
     "text": [
      "(2.0, 2.0, [15.602308076718518, 15.602308076718518, 54.35542691524807, 54.35542691524807, 62.80977205858234, 62.80977205858234], [6.86626987595279, 6.86626987595279, 11.567031167628256, 11.567031167628256, 44.459769620074226, 44.459769620074226])\n"
     ]
    }
   ],
   "source": [
    "println(escape_dimer.escape_exit_num_dimer([q2,p2],t_end,H))"
   ]
  },
  {
   "cell_type": "code",
   "execution_count": 10,
   "metadata": {},
   "outputs": [
    {
     "data": {
      "text/plain": [
       "back_one (generic function with 1 method)"
      ]
     },
     "execution_count": 10,
     "metadata": {},
     "output_type": "execute_result"
    }
   ],
   "source": [
    "include(\"back_one.jl\")"
   ]
  },
  {
   "cell_type": "code",
   "execution_count": null,
   "metadata": {},
   "outputs": [],
   "source": []
  }
 ],
 "metadata": {
  "kernelspec": {
   "display_name": "Julia 1.2.0",
   "language": "julia",
   "name": "julia-1.2"
  },
  "language_info": {
   "file_extension": ".jl",
   "mimetype": "application/julia",
   "name": "julia",
   "version": "1.2.0"
  }
 },
 "nbformat": 4,
 "nbformat_minor": 2
}
