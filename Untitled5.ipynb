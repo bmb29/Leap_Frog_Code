{
 "cells": [
  {
   "cell_type": "code",
   "execution_count": 1,
   "metadata": {},
   "outputs": [
    {
     "data": {
      "text/plain": [
       "true"
      ]
     },
     "execution_count": 1,
     "metadata": {},
     "output_type": "execute_result"
    }
   ],
   "source": [
    "using ProgressMeter\n",
    "using Printf\n",
    "using BSON: @save, @load\n",
    "using PyCall\n",
    "pygui(:qt)\n",
    "using PyPlot\n",
    "pygui(true)"
   ]
  },
  {
   "cell_type": "code",
   "execution_count": 2,
   "metadata": {},
   "outputs": [],
   "source": [
    "@load \"/media/brandon_behring/Extra_Space/BSON_FILES/BandF_Dimer_lagrangian_descriptors_data0_129250000000000_ 2000_1_1.500_0.7002019_12_01T11_52_59_61.bson\" SAVE_DATA"
   ]
  },
  {
   "cell_type": "code",
   "execution_count": 3,
   "metadata": {},
   "outputs": [
    {
     "data": {
      "text/plain": [
       "Dict{String,Any} with 5 entries:\n",
       "  \"ArrQ\"   => -1.5:0.0015007503751875938:1.5\n",
       "  \"ArrP\"   => 0.0:0.00035017508754377186:0.7\n",
       "  \"Energy\" => 0.12925\n",
       "  \"mesh\"   => Tuple{Float64,Float64}[(-1.5, 0.0) (-1.4985, 0.0) … (1.4985, 0.0)…\n",
       "  \"LD\"     => [1.64324 1.64518 … 1.64518 1.64324; 1.64362 1.64556 … 1.64479 1.6…"
      ]
     },
     "execution_count": 3,
     "metadata": {},
     "output_type": "execute_result"
    }
   ],
   "source": [
    "SAVE_DATA"
   ]
  },
  {
   "cell_type": "code",
   "execution_count": null,
   "metadata": {},
   "outputs": [],
   "source": []
  }
 ],
 "metadata": {
  "kernelspec": {
   "display_name": "Julia 1.3.0",
   "language": "julia",
   "name": "julia-1.3"
  },
  "language_info": {
   "file_extension": ".jl",
   "mimetype": "application/julia",
   "name": "julia",
   "version": "1.3.0"
  }
 },
 "nbformat": 4,
 "nbformat_minor": 2
}
