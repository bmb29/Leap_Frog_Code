{
 "cells": [
  {
   "cell_type": "code",
   "execution_count": 1,
   "metadata": {
    "scrolled": true
   },
   "outputs": [
    {
     "data": {
      "text/plain": [
       "0.25"
      ]
     },
     "execution_count": 1,
     "metadata": {},
     "output_type": "execute_result"
    }
   ],
   "source": [
    "using ProgressMeter\n",
    "using Printf\n",
    "using BSON: @save, @load\n",
    "using PyCall\n",
    "# pygui(:qt)\n",
    "using PyPlot\n",
    "# pygui(true)\n",
    "include(\"escape_dimer_one_hit.jl\")\n",
    "H=.25"
   ]
  },
  {
   "cell_type": "code",
   "execution_count": 2,
   "metadata": {},
   "outputs": [
    {
     "name": "stdout",
     "output_type": "stream",
     "text": [
      "num_hhits_escape_data0_2500000000000_200_200.bson\n"
     ]
    },
    {
     "data": {
      "text/plain": [
       "0-element Array{Any,1}"
      ]
     },
     "execution_count": 2,
     "metadata": {},
     "output_type": "execute_result"
    }
   ],
   "source": [
    "t_end = 1e3\n",
    "width = 2.25; height = 4.5\n",
    "n_iter_P = 200;n_iter_Q =200;\n",
    "N = n_iter_P * n_iter_Q;\n",
    "ArrQ = range(-width, stop = width, length = n_iter_P)\n",
    "ArrP = range(0, stop = height, length = n_iter_Q)\n",
    "mesh = [(Q, P) for Q in ArrQ, P in ArrP]\n",
    "mesh_list = reshape(mesh, 1, :)\n",
    "t_list = t_end * ones(N);\n",
    "Energy = H* ones(N);\n",
    "\n",
    "h = replace(@sprintf(\"%.13f\",H), \".\" => \"_\")\n",
    "nQ = @sprintf(\"_%d\",n_iter_Q)\n",
    "nP = @sprintf(\"_%d\",n_iter_P)\n",
    "h_BSON=\"num_hhits_escape_data\"*h*nQ*nP*\".bson\"\n",
    "location = \"/mnt/bdd38f66-9ece-451a-b915-952523c139d2/Escape/\"\n",
    "println(h_BSON)\n",
    "one_hit_exit=[]"
   ]
  },
  {
   "cell_type": "code",
   "execution_count": 3,
   "metadata": {
    "scrolled": true
   },
   "outputs": [
    {
     "name": "stderr",
     "output_type": "stream",
     "text": [
      "\u001b[32mProgress: 100%|█████████████████████████████████████████| Time: 0:12:19\u001b[39m39m\n"
     ]
    }
   ],
   "source": [
    "exit_points= @showprogress map(escape_after_one_hit, mesh_list, t_list, Energy);"
   ]
  },
  {
   "cell_type": "code",
   "execution_count": 4,
   "metadata": {
    "scrolled": true
   },
   "outputs": [
    {
     "data": {
      "text/plain": [
       "3461-element Array{Any,1}:\n",
       " (0, -1.1871859296482412, 0.5964949542281096, 0.0)             \n",
       " (0, -1.164572864321608, 0.5870875365366317, 0.0)              \n",
       " (0, -1.1419597989949748, 0.5781394289110859, 0.0)             \n",
       " (0, -1.1193467336683418, 0.5696437188301299, 0.0)             \n",
       " (0, -1.0967336683417086, 0.5615946595599092, 0.0)             \n",
       " (0, -1.0741206030150754, 0.553987639601864, 0.0)              \n",
       " (0, -1.0515075376884422, 0.546819163298087, 0.0)              \n",
       " (0, -1.028894472361809, 0.5400868419928162, 0.0)              \n",
       " (0, -1.006281407035176, 0.5337893953551529, 0.0)              \n",
       " (0, -0.9836683417085427, 0.5279266626539846, 0.0)             \n",
       " (0, -0.9610552763819096, 0.5224996239476887, 0.0)             \n",
       " (0, -0.9384422110552764, 0.5175104313138456, 0.0)             \n",
       " (0, -0.9158291457286433, 0.5129624504025884, 0.0)             \n",
       " ⋮                                                             \n",
       " (0, 1.435929648241206, 3.111757561639632, 4.025125628140704)  \n",
       " (0, 1.435929648241206, 3.1367568613140557, 4.047738693467337) \n",
       " (0, 1.435929648241206, 3.1617693161952545, 4.0703517587939695)\n",
       " (0, 1.435929648241206, 3.186794461845781, 4.092964824120603)  \n",
       " (0, 1.435929648241206, 3.211831854546728, 4.115577889447236)  \n",
       " (0, 1.435929648241206, 3.2368810705709494, 4.13819095477387)  \n",
       " (0, 1.435929648241206, 3.2619417054848494, 4.160804020100502) \n",
       " (0, 1.435929648241206, 3.28701337347786, 4.183417085427136)   \n",
       " (0, 1.435929648241206, 3.312095706718579, 4.206030150753769)  \n",
       " (0, 1.435929648241206, 3.3371883547367123, 4.228643216080402) \n",
       " (0, 1.435929648241206, 3.362290983829868, 4.251256281407035)  \n",
       " (0, 1.435929648241206, 3.4376556602626245, 4.319095477386934) "
      ]
     },
     "execution_count": 4,
     "metadata": {},
     "output_type": "execute_result"
    }
   ],
   "source": [
    "cleaned_points=[]\n",
    "for item in exit_points\n",
    "    if item!=nothing\n",
    "        push!(cleaned_points, item)\n",
    "    end\n",
    "end\n",
    "cleaned_points"
   ]
  },
  {
   "cell_type": "code",
   "execution_count": 5,
   "metadata": {},
   "outputs": [],
   "source": [
    "# one_hit_exit=[]\n",
    "# for i = 1:N\n",
    "#     Q, P = mesh_list[i]\n",
    "#     if num_until_exit[i] == 1\n",
    "#         push!(one_hit_exit,[Q,P])\n",
    "#     end\n",
    "# end\n",
    "# one_hit_exit          "
   ]
  },
  {
   "cell_type": "code",
   "execution_count": 6,
   "metadata": {},
   "outputs": [
    {
     "data": {
      "text/plain": [
       "add_eight! (generic function with 1 method)"
      ]
     },
     "execution_count": 6,
     "metadata": {},
     "output_type": "execute_result"
    }
   ],
   "source": [
    "function add_eight!(point,radius, one_hit_exit, t_end, energy)\n",
    "    X=point[2]\n",
    "    Y=point[4]\n",
    "    \n",
    "    X_plus=X+radius\n",
    "    Y_plus=Y+radius\n",
    "    X_minus=X-radius\n",
    "    Y_minus=Y-radius\n",
    "    \n",
    "    \n",
    "    point_1=[X_minus, Y_plus]\n",
    "    point_2=[X, Y_plus]\n",
    "    point_3=[X_minus, Y_plus]\n",
    "    \n",
    "    point_4=[X_minus, Y]\n",
    "    point_5=[X_plus, Y]\n",
    "    \n",
    "    point_6=[X_minus, Y_minus]\n",
    "    point_7=[X, Y_minus]\n",
    "    point_8=[X_minus, Y_minus];\n",
    "    \n",
    "    \n",
    "    new_points= [point_1, point_2, point_3, point_4, point_5, point_6, point_7, point_8]\n",
    "    for point in new_points\n",
    "        new_point=escape_after_one_hit(point,t_end,energy)\n",
    "        if new_point!=nothing\n",
    "            push!(one_hit_exit, new_point)\n",
    "        end\n",
    "    end\n",
    "end"
   ]
  },
  {
   "cell_type": "code",
   "execution_count": 7,
   "metadata": {},
   "outputs": [
    {
     "data": {
      "text/plain": [
       "add_four! (generic function with 1 method)"
      ]
     },
     "execution_count": 7,
     "metadata": {},
     "output_type": "execute_result"
    }
   ],
   "source": [
    "function add_four!(point,radius, one_hit_exit, t_end, energy)\n",
    "    X=point[2]\n",
    "    Y=point[4]\n",
    "    \n",
    "    X_plus=X+radius\n",
    "    Y_plus=Y+radius\n",
    "    X_minus=X-radius\n",
    "    Y_minus=Y-radius\n",
    "    \n",
    "    \n",
    "    point_2=[X, Y_plus]\n",
    "    \n",
    "    point_4=[X_minus, Y]\n",
    "    \n",
    "    point_5=[X_plus, Y]\n",
    "    \n",
    "    point_7=[X, Y_minus]\n",
    "    \n",
    "    \n",
    "    new_points= [point_2, point_4, point_5, point_7]\n",
    "      for point in new_points\n",
    "        new_point=escape_after_one_hit(point,t_end,energy)\n",
    "        if new_point!=nothing\n",
    "            push!(one_hit_exit, new_point)\n",
    "        end\n",
    "    end\n",
    "end"
   ]
  },
  {
   "cell_type": "code",
   "execution_count": 8,
   "metadata": {},
   "outputs": [
    {
     "data": {
      "text/plain": [
       "addpoint! (generic function with 1 method)"
      ]
     },
     "execution_count": 8,
     "metadata": {},
     "output_type": "execute_result"
    }
   ],
   "source": [
    "function addpoint!(list)\n",
    "    push!(list,[-10,10])\n",
    "end"
   ]
  },
  {
   "cell_type": "code",
   "execution_count": 9,
   "metadata": {},
   "outputs": [
    {
     "data": {
      "text/plain": [
       "unzipper2 (generic function with 1 method)"
      ]
     },
     "execution_count": 9,
     "metadata": {},
     "output_type": "execute_result"
    }
   ],
   "source": [
    "function unzipper2(array_of_points)\n",
    "    N=length(array_of_points)\n",
    "    Q=zeros(N)\n",
    "    P=zeros(N)\n",
    "    for (index,point) in enumerate(array_of_points)\n",
    "        Q[index]=point[2]\n",
    "        P[index]=point[4]\n",
    "    end\n",
    "    return Q,P\n",
    "end"
   ]
  },
  {
   "cell_type": "code",
   "execution_count": 10,
   "metadata": {},
   "outputs": [
    {
     "name": "stderr",
     "output_type": "stream",
     "text": [
      "\u001b[32mProgress: 100%|█████████████████████████████████████████| Time: 0:09:37\u001b[39m\n"
     ]
    },
    {
     "data": {
      "image/png": "[encoded data removed]",
      "text/plain": [
       "Figure(PyObject <Figure size 640x480 with 1 Axes>)"
      ]
     },
     "metadata": {},
     "output_type": "display_data"
    }
   ],
   "source": [
    "old_list=copy(cleaned_points)\n",
    "energy=.25\n",
    "radius=.01\n",
    "\n",
    "@showprogress for (index,point) in enumerate(old_list)\n",
    "    add_eight!(point,radius, cleaned_points, t_end, energy)\n",
    "end\n",
    "cleaned_points\n",
    "length(cleaned_points)\n",
    "Q,P=unzipper2(cleaned_points)\n",
    "Q_one=vcat(Q,-Q); P_one=vcat(P,-P);\n",
    "plot(Q_one,P_one, \".\",markersize=1,c=:blue);"
   ]
  },
  {
   "cell_type": "code",
   "execution_count": 11,
   "metadata": {
    "scrolled": true
   },
   "outputs": [
    {
     "data": {
      "image/png": "[encoded data removed]",
      "text/plain": [
       "Figure(PyObject <Figure size 640x480 with 1 Axes>)"
      ]
     },
     "metadata": {},
     "output_type": "display_data"
    }
   ],
   "source": [
    "Q,P=unzipper2(cleaned_points)\n",
    "Q_one=vcat(Q,-Q); P_one=vcat(P,-P);\n",
    "plot(Q_one,P_one, \".\",markersize=1,c=:blue);"
   ]
  },
  {
   "cell_type": "code",
   "execution_count": 12,
   "metadata": {},
   "outputs": [
    {
     "data": {
      "text/plain": [
       "28095-element Array{Any,1}:\n",
       " (0, -1.1871859296482412, 0.5964949542281096, 0.0)             \n",
       " (0, -1.164572864321608, 0.5870875365366317, 0.0)              \n",
       " (0, -1.1419597989949748, 0.5781394289110859, 0.0)             \n",
       " (0, -1.1193467336683418, 0.5696437188301299, 0.0)             \n",
       " (0, -1.0967336683417086, 0.5615946595599092, 0.0)             \n",
       " (0, -1.0741206030150754, 0.553987639601864, 0.0)              \n",
       " (0, -1.0515075376884422, 0.546819163298087, 0.0)              \n",
       " (0, -1.028894472361809, 0.5400868419928162, 0.0)              \n",
       " (0, -1.006281407035176, 0.5337893953551529, 0.0)              \n",
       " (0, -0.9836683417085427, 0.5279266626539846, 0.0)             \n",
       " (0, -0.9610552763819096, 0.5224996239476887, 0.0)             \n",
       " (0, -0.9384422110552764, 0.5175104313138456, 0.0)             \n",
       " (0, -0.9158291457286433, 0.5129624504025884, 0.0)             \n",
       " ⋮                                                             \n",
       " (0, 1.435929648241206, 3.225802318752766, 4.12819095477387)   \n",
       " (0, 1.425929648241206, 3.16892105994925, 4.12819095477387)    \n",
       " (0, 1.435929648241206, 3.273027615717191, 4.170804020100502)  \n",
       " (0, 1.445929648241206, 3.3274061497292657, 4.160804020100502) \n",
       " (0, 1.435929648241206, 3.250857952651246, 4.1508040201005025) \n",
       " (0, 1.435929648241206, 3.2981040444413807, 4.193417085427136) \n",
       " (0, 1.435929648241206, 3.2759247879878908, 4.173417085427136) \n",
       " (0, 1.435929648241206, 3.3231909813220986, 4.2160301507537685)\n",
       " (0, 1.435929648241206, 3.3010024490582413, 4.196030150753769) \n",
       " (0, 1.435929648241206, 3.348288083375911, 4.238643216080402)  \n",
       " (0, 1.435929648241206, 3.3260905777891523, 4.218643216080403) \n",
       " (0, 1.435929648241206, 3.3511888331346933, 4.241256281407035) "
      ]
     },
     "execution_count": 12,
     "metadata": {},
     "output_type": "execute_result"
    }
   ],
   "source": [
    "cleaned_points"
   ]
  },
  {
   "cell_type": "code",
   "execution_count": 13,
   "metadata": {},
   "outputs": [
    {
     "data": {
      "text/plain": [
       "Dict{String,Array{Any,1}} with 1 entry:\n",
       "  \"one_hit_exit\" => Any[]"
      ]
     },
     "execution_count": 13,
     "metadata": {},
     "output_type": "execute_result"
    }
   ],
   "source": [
    "SAVE_DATA=Dict(\"one_hit_exit\"=>one_hit_exit)\n"
   ]
  },
  {
   "cell_type": "code",
   "execution_count": 14,
   "metadata": {},
   "outputs": [
    {
     "data": {
      "text/plain": [
       "forward_one (generic function with 1 method)"
      ]
     },
     "execution_count": 14,
     "metadata": {},
     "output_type": "execute_result"
    }
   ],
   "source": [
    "include(\"forward_one.jl\")"
   ]
  },
  {
   "cell_type": "code",
   "execution_count": 15,
   "metadata": {
    "scrolled": true
   },
   "outputs": [
    {
     "data": {
      "text/plain": [
       "28095-element Array{Any,1}:\n",
       " (0, -1.1871859296482412, 0.5964949542281096, 0.0)             \n",
       " (0, -1.164572864321608, 0.5870875365366317, 0.0)              \n",
       " (0, -1.1419597989949748, 0.5781394289110859, 0.0)             \n",
       " (0, -1.1193467336683418, 0.5696437188301299, 0.0)             \n",
       " (0, -1.0967336683417086, 0.5615946595599092, 0.0)             \n",
       " (0, -1.0741206030150754, 0.553987639601864, 0.0)              \n",
       " (0, -1.0515075376884422, 0.546819163298087, 0.0)              \n",
       " (0, -1.028894472361809, 0.5400868419928162, 0.0)              \n",
       " (0, -1.006281407035176, 0.5337893953551529, 0.0)              \n",
       " (0, -0.9836683417085427, 0.5279266626539846, 0.0)             \n",
       " (0, -0.9610552763819096, 0.5224996239476887, 0.0)             \n",
       " (0, -0.9384422110552764, 0.5175104313138456, 0.0)             \n",
       " (0, -0.9158291457286433, 0.5129624504025884, 0.0)             \n",
       " ⋮                                                             \n",
       " (0, 1.435929648241206, 3.225802318752766, 4.12819095477387)   \n",
       " (0, 1.425929648241206, 3.16892105994925, 4.12819095477387)    \n",
       " (0, 1.435929648241206, 3.273027615717191, 4.170804020100502)  \n",
       " (0, 1.445929648241206, 3.3274061497292657, 4.160804020100502) \n",
       " (0, 1.435929648241206, 3.250857952651246, 4.1508040201005025) \n",
       " (0, 1.435929648241206, 3.2981040444413807, 4.193417085427136) \n",
       " (0, 1.435929648241206, 3.2759247879878908, 4.173417085427136) \n",
       " (0, 1.435929648241206, 3.3231909813220986, 4.2160301507537685)\n",
       " (0, 1.435929648241206, 3.3010024490582413, 4.196030150753769) \n",
       " (0, 1.435929648241206, 3.348288083375911, 4.238643216080402)  \n",
       " (0, 1.435929648241206, 3.3260905777891523, 4.218643216080403) \n",
       " (0, 1.435929648241206, 3.3511888331346933, 4.241256281407035) "
      ]
     },
     "execution_count": 15,
     "metadata": {},
     "output_type": "execute_result"
    }
   ],
   "source": [
    "cleaned_points"
   ]
  },
  {
   "cell_type": "code",
   "execution_count": 16,
   "metadata": {},
   "outputs": [
    {
     "ename": "BoundsError",
     "evalue": "BoundsError: attempt to access 0-element Array{Any,1} at index [2]",
     "output_type": "error",
     "traceback": [
      "BoundsError: attempt to access 0-element Array{Any,1} at index [2]",
      "",
      "Stacktrace:",
      " [1] getindex(::Array{Any,1}, ::Int64) at ./array.jl:731",
      " [2] top-level scope at In[16]:1"
     ]
    }
   ],
   "source": [
    "q1, q2, p1, p2=forward_one(one_hit_exit[2], t_end, H)"
   ]
  },
  {
   "cell_type": "code",
   "execution_count": 17,
   "metadata": {},
   "outputs": [
    {
     "name": "stderr",
     "output_type": "stream",
     "text": [
      "\u001b[32mProgress: 100%|█████████████████████████████████████████| Time: 0:15:30\u001b[39mm22\u001b[39mm\n"
     ]
    }
   ],
   "source": [
    "new_forward=[]\n",
    "\n",
    "@showprogress for point in cleaned_points\n",
    "    forward_point=forward_one(point, t_end, H)\n",
    "    if forward_point!=nothing\n",
    "        push!(new_forward,forward_point)\n",
    "    end\n",
    "end"
   ]
  },
  {
   "cell_type": "code",
   "execution_count": 18,
   "metadata": {
    "scrolled": false
   },
   "outputs": [
    {
     "data": {
      "image/png": "[encoded data removed]",
      "text/plain": [
       "Figure(PyObject <Figure size 640x480 with 1 Axes>)"
      ]
     },
     "metadata": {},
     "output_type": "display_data"
    },
    {
     "data": {
      "text/plain": [
       "(-4.5, 4.5)"
      ]
     },
     "execution_count": 18,
     "metadata": {},
     "output_type": "execute_result"
    }
   ],
   "source": [
    "Q,P=unzipper2(new_forward)\n",
    "Q_escape=vcat(Q,-Q); P_escape=vcat(P,-P);\n",
    "Q,P=unzipper2(cleaned_points)\n",
    "Q_one=vcat(Q,-Q); P_one=vcat(P,-P);\n",
    "plot(Q_one,P_one, \".\",markersize=1,c=:blue);\n",
    "plot(Q_escape,P_escape, \".\",markersize=1,c=:red);\n",
    "xlim(-2.5,2.5) \n",
    "ylim(-4.5,4.5) "
   ]
  },
  {
   "cell_type": "code",
   "execution_count": 19,
   "metadata": {
    "scrolled": true
   },
   "outputs": [
    {
     "name": "stderr",
     "output_type": "stream",
     "text": [
      "\r",
      "\u001b[32mProgress:   0%|                                         |  ETA: 0:12:34\u001b[39m"
     ]
    },
    {
     "ename": "ErrorException",
     "evalue": "Event repeated at the same time. Please report this error",
     "output_type": "error",
     "traceback": [
      "Event repeated at the same time. Please report this error",
      "",
      "Stacktrace:",
      " [1] error(::String) at ./error.jl:33",
      " [2] apply_callback!(::OrdinaryDiffEq.ODEIntegrator{RK4,true,ArrayPartition{Float64,Tuple{Array{Float64,1},Array{Float64,1}}},Float64,Nothing,Float64,Float64,Float64,Array{ArrayPartition{Float64,Tuple{Array{Float64,1},Array{Float64,1}}},1},ODESolution{Float64,2,Array{ArrayPartition{Float64,Tuple{Array{Float64,1},Array{Float64,1}}},1},Nothing,Nothing,Array{Float64,1},Array{Array{ArrayPartition{Float64,Tuple{Array{Float64,1},Array{Float64,1}}},1},1},ODEProblem{ArrayPartition{Float64,Tuple{Array{Float64,1},Array{Float64,1}}},Tuple{Float64,Float64},true,Nothing,DynamicalODEFunction{true,ODEFunction{true,getfield(DiffEqPhysics, Symbol(\"##15#27\")){typeof(Hamiltonian_Dimer),ForwardDiff.GradientConfig{ForwardDiff.Tag{DiffEqPhysics.PhysicsTag,Float64},Float64,3,Array{ForwardDiff.Dual{ForwardDiff.Tag{DiffEqPhysics.PhysicsTag,Float64},Float64,3},1}}},LinearAlgebra.UniformScaling{Bool},Nothing,Nothing,Nothing,Nothing,Nothing,Nothing,Nothing,Nothing,Nothing},ODEFunction{true,getfield(DiffEqPhysics, Symbol(\"##17#29\")){typeof(Hamiltonian_Dimer),ForwardDiff.GradientConfig{ForwardDiff.Tag{DiffEqPhysics.PhysicsTag,Float64},Float64,3,Array{ForwardDiff.Dual{ForwardDiff.Tag{DiffEqPhysics.PhysicsTag,Float64},Float64,3},1}}},LinearAlgebra.UniformScaling{Bool},Nothing,Nothing,Nothing,Nothing,Nothing,Nothing,Nothing,Nothing,Nothing},Tuple{LinearAlgebra.UniformScaling{Bool},LinearAlgebra.UniformScaling{Bool}},Nothing},Nothing,DiffEqBase.StandardODEProblem},RK4,OrdinaryDiffEq.InterpolationData{DynamicalODEFunction{true,ODEFunction{true,getfield(DiffEqPhysics, Symbol(\"##15#27\")){typeof(Hamiltonian_Dimer),ForwardDiff.GradientConfig{ForwardDiff.Tag{DiffEqPhysics.PhysicsTag,Float64},Float64,3,Array{ForwardDiff.Dual{ForwardDiff.Tag{DiffEqPhysics.PhysicsTag,Float64},Float64,3},1}}},LinearAlgebra.UniformScaling{Bool},Nothing,Nothing,Nothing,Nothing,Nothing,Nothing,Nothing,Nothing,Nothing},ODEFunction{true,getfield(DiffEqPhysics, Symbol(\"##17#29\")){typeof(Hamiltonian_Dimer),ForwardDiff.GradientConfig{ForwardDiff.Tag{DiffEqPhysics.PhysicsTag,Float64},Float64,3,Array{ForwardDiff.Dual{ForwardDiff.Tag{DiffEqPhysics.PhysicsTag,Float64},Float64,3},1}}},LinearAlgebra.UniformScaling{Bool},Nothing,Nothing,Nothing,Nothing,Nothing,Nothing,Nothing,Nothing,Nothing},Tuple{LinearAlgebra.UniformScaling{Bool},LinearAlgebra.UniformScaling{Bool}},Nothing},Array{ArrayPartition{Float64,Tuple{Array{Float64,1},Array{Float64,1}}},1},Array{Float64,1},Array{Array{ArrayPartition{Float64,Tuple{Array{Float64,1},Array{Float64,1}}},1},1},OrdinaryDiffEq.RK4Cache{ArrayPartition{Float64,Tuple{Array{Float64,1},Array{Float64,1}}},ArrayPartition{Float64,Tuple{Array{Float64,1},Array{Float64,1}}},ArrayPartition{Float64,Tuple{Array{Float64,1},Array{Float64,1}}}}},DiffEqBase.DEStats},DynamicalODEFunction{true,ODEFunction{true,getfield(DiffEqPhysics, Symbol(\"##15#27\")){typeof(Hamiltonian_Dimer),ForwardDiff.GradientConfig{ForwardDiff.Tag{DiffEqPhysics.PhysicsTag,Float64},Float64,3,Array{ForwardDiff.Dual{ForwardDiff.Tag{DiffEqPhysics.PhysicsTag,Float64},Float64,3},1}}},LinearAlgebra.UniformScaling{Bool},Nothing,Nothing,Nothing,Nothing,Nothing,Nothing,Nothing,Nothing,Nothing},ODEFunction{true,getfield(DiffEqPhysics, Symbol(\"##17#29\")){typeof(Hamiltonian_Dimer),ForwardDiff.GradientConfig{ForwardDiff.Tag{DiffEqPhysics.PhysicsTag,Float64},Float64,3,Array{ForwardDiff.Dual{ForwardDiff.Tag{DiffEqPhysics.PhysicsTag,Float64},Float64,3},1}}},LinearAlgebra.UniformScaling{Bool},Nothing,Nothing,Nothing,Nothing,Nothing,Nothing,Nothing,Nothing,Nothing},Tuple{LinearAlgebra.UniformScaling{Bool},LinearAlgebra.UniformScaling{Bool}},Nothing},OrdinaryDiffEq.RK4Cache{ArrayPartition{Float64,Tuple{Array{Float64,1},Array{Float64,1}}},ArrayPartition{Float64,Tuple{Array{Float64,1},Array{Float64,1}}},ArrayPartition{Float64,Tuple{Array{Float64,1},Array{Float64,1}}}},OrdinaryDiffEq.DEOptions{Float64,Float64,Float64,Float64,typeof(DiffEqBase.ODE_DEFAULT_NORM),typeof(LinearAlgebra.opnorm),CallbackSet{Tuple{ContinuousCallback{typeof(condition_hits_PSS_q1),Nothing,typeof(affect_update_iterator_q1!),typeof(DiffEqBase.INITIALIZE_DEFAULT),Float64,Int64,Nothing},ContinuousCallback{typeof(condition_hits_PSS_p2),Nothing,typeof(affect_update_iterator_p2!),typeof(DiffEqBase.INITIALIZE_DEFAULT),Float64,Int64,Nothing}},Tuple{DiscreteCallback{typeof(condition_max_hits),typeof(affect_stop!),typeof(DiffEqBase.INITIALIZE_DEFAULT)}}},typeof(DiffEqBase.ODE_DEFAULT_ISOUTOFDOMAIN),typeof(DiffEqBase.ODE_DEFAULT_PROG_MESSAGE),typeof(DiffEqBase.ODE_DEFAULT_UNSTABLE_CHECK),DataStructures.BinaryHeap{Float64,DataStructures.LessThan},DataStructures.BinaryHeap{Float64,DataStructures.LessThan},Nothing,Nothing,Float64,Array{Float64,1},Array{Float64,1},Array{Float64,1}},ArrayPartition{Float64,Tuple{Array{Float64,1},Array{Float64,1}}},Float64,Nothing}, ::ContinuousCallback{typeof(condition_hits_PSS_q1),Nothing,typeof(affect_update_iterator_q1!),typeof(DiffEqBase.INITIALIZE_DEFAULT),Float64,Int64,Nothing}, ::Float64, ::Float64, ::Int64) at /home/brandon_behring/.julia/packages/DiffEqBase/DqkH4/src/callbacks.jl:545",
      " [3] handle_callbacks!(::OrdinaryDiffEq.ODEIntegrator{RK4,true,ArrayPartition{Float64,Tuple{Array{Float64,1},Array{Float64,1}}},Float64,Nothing,Float64,Float64,Float64,Array{ArrayPartition{Float64,Tuple{Array{Float64,1},Array{Float64,1}}},1},ODESolution{Float64,2,Array{ArrayPartition{Float64,Tuple{Array{Float64,1},Array{Float64,1}}},1},Nothing,Nothing,Array{Float64,1},Array{Array{ArrayPartition{Float64,Tuple{Array{Float64,1},Array{Float64,1}}},1},1},ODEProblem{ArrayPartition{Float64,Tuple{Array{Float64,1},Array{Float64,1}}},Tuple{Float64,Float64},true,Nothing,DynamicalODEFunction{true,ODEFunction{true,getfield(DiffEqPhysics, Symbol(\"##15#27\")){typeof(Hamiltonian_Dimer),ForwardDiff.GradientConfig{ForwardDiff.Tag{DiffEqPhysics.PhysicsTag,Float64},Float64,3,Array{ForwardDiff.Dual{ForwardDiff.Tag{DiffEqPhysics.PhysicsTag,Float64},Float64,3},1}}},LinearAlgebra.UniformScaling{Bool},Nothing,Nothing,Nothing,Nothing,Nothing,Nothing,Nothing,Nothing,Nothing},ODEFunction{true,getfield(DiffEqPhysics, Symbol(\"##17#29\")){typeof(Hamiltonian_Dimer),ForwardDiff.GradientConfig{ForwardDiff.Tag{DiffEqPhysics.PhysicsTag,Float64},Float64,3,Array{ForwardDiff.Dual{ForwardDiff.Tag{DiffEqPhysics.PhysicsTag,Float64},Float64,3},1}}},LinearAlgebra.UniformScaling{Bool},Nothing,Nothing,Nothing,Nothing,Nothing,Nothing,Nothing,Nothing,Nothing},Tuple{LinearAlgebra.UniformScaling{Bool},LinearAlgebra.UniformScaling{Bool}},Nothing},Nothing,DiffEqBase.StandardODEProblem},RK4,OrdinaryDiffEq.InterpolationData{DynamicalODEFunction{true,ODEFunction{true,getfield(DiffEqPhysics, Symbol(\"##15#27\")){typeof(Hamiltonian_Dimer),ForwardDiff.GradientConfig{ForwardDiff.Tag{DiffEqPhysics.PhysicsTag,Float64},Float64,3,Array{ForwardDiff.Dual{ForwardDiff.Tag{DiffEqPhysics.PhysicsTag,Float64},Float64,3},1}}},LinearAlgebra.UniformScaling{Bool},Nothing,Nothing,Nothing,Nothing,Nothing,Nothing,Nothing,Nothing,Nothing},ODEFunction{true,getfield(DiffEqPhysics, Symbol(\"##17#29\")){typeof(Hamiltonian_Dimer),ForwardDiff.GradientConfig{ForwardDiff.Tag{DiffEqPhysics.PhysicsTag,Float64},Float64,3,Array{ForwardDiff.Dual{ForwardDiff.Tag{DiffEqPhysics.PhysicsTag,Float64},Float64,3},1}}},LinearAlgebra.UniformScaling{Bool},Nothing,Nothing,Nothing,Nothing,Nothing,Nothing,Nothing,Nothing,Nothing},Tuple{LinearAlgebra.UniformScaling{Bool},LinearAlgebra.UniformScaling{Bool}},Nothing},Array{ArrayPartition{Float64,Tuple{Array{Float64,1},Array{Float64,1}}},1},Array{Float64,1},Array{Array{ArrayPartition{Float64,Tuple{Array{Float64,1},Array{Float64,1}}},1},1},OrdinaryDiffEq.RK4Cache{ArrayPartition{Float64,Tuple{Array{Float64,1},Array{Float64,1}}},ArrayPartition{Float64,Tuple{Array{Float64,1},Array{Float64,1}}},ArrayPartition{Float64,Tuple{Array{Float64,1},Array{Float64,1}}}}},DiffEqBase.DEStats},DynamicalODEFunction{true,ODEFunction{true,getfield(DiffEqPhysics, Symbol(\"##15#27\")){typeof(Hamiltonian_Dimer),ForwardDiff.GradientConfig{ForwardDiff.Tag{DiffEqPhysics.PhysicsTag,Float64},Float64,3,Array{ForwardDiff.Dual{ForwardDiff.Tag{DiffEqPhysics.PhysicsTag,Float64},Float64,3},1}}},LinearAlgebra.UniformScaling{Bool},Nothing,Nothing,Nothing,Nothing,Nothing,Nothing,Nothing,Nothing,Nothing},ODEFunction{true,getfield(DiffEqPhysics, Symbol(\"##17#29\")){typeof(Hamiltonian_Dimer),ForwardDiff.GradientConfig{ForwardDiff.Tag{DiffEqPhysics.PhysicsTag,Float64},Float64,3,Array{ForwardDiff.Dual{ForwardDiff.Tag{DiffEqPhysics.PhysicsTag,Float64},Float64,3},1}}},LinearAlgebra.UniformScaling{Bool},Nothing,Nothing,Nothing,Nothing,Nothing,Nothing,Nothing,Nothing,Nothing},Tuple{LinearAlgebra.UniformScaling{Bool},LinearAlgebra.UniformScaling{Bool}},Nothing},OrdinaryDiffEq.RK4Cache{ArrayPartition{Float64,Tuple{Array{Float64,1},Array{Float64,1}}},ArrayPartition{Float64,Tuple{Array{Float64,1},Array{Float64,1}}},ArrayPartition{Float64,Tuple{Array{Float64,1},Array{Float64,1}}}},OrdinaryDiffEq.DEOptions{Float64,Float64,Float64,Float64,typeof(DiffEqBase.ODE_DEFAULT_NORM),typeof(LinearAlgebra.opnorm),CallbackSet{Tuple{ContinuousCallback{typeof(condition_hits_PSS_q1),Nothing,typeof(affect_update_iterator_q1!),typeof(DiffEqBase.INITIALIZE_DEFAULT),Float64,Int64,Nothing},ContinuousCallback{typeof(condition_hits_PSS_p2),Nothing,typeof(affect_update_iterator_p2!),typeof(DiffEqBase.INITIALIZE_DEFAULT),Float64,Int64,Nothing}},Tuple{DiscreteCallback{typeof(condition_max_hits),typeof(affect_stop!),typeof(DiffEqBase.INITIALIZE_DEFAULT)}}},typeof(DiffEqBase.ODE_DEFAULT_ISOUTOFDOMAIN),typeof(DiffEqBase.ODE_DEFAULT_PROG_MESSAGE),typeof(DiffEqBase.ODE_DEFAULT_UNSTABLE_CHECK),DataStructures.BinaryHeap{Float64,DataStructures.LessThan},DataStructures.BinaryHeap{Float64,DataStructures.LessThan},Nothing,Nothing,Float64,Array{Float64,1},Array{Float64,1},Array{Float64,1}},ArrayPartition{Float64,Tuple{Array{Float64,1},Array{Float64,1}}},Float64,Nothing}) at /home/brandon_behring/.julia/packages/OrdinaryDiffEq/BhP0W/src/integrators/integrator_utils.jl:246",
      " [4] _loopfooter!(::OrdinaryDiffEq.ODEIntegrator{RK4,true,ArrayPartition{Float64,Tuple{Array{Float64,1},Array{Float64,1}}},Float64,Nothing,Float64,Float64,Float64,Array{ArrayPartition{Float64,Tuple{Array{Float64,1},Array{Float64,1}}},1},ODESolution{Float64,2,Array{ArrayPartition{Float64,Tuple{Array{Float64,1},Array{Float64,1}}},1},Nothing,Nothing,Array{Float64,1},Array{Array{ArrayPartition{Float64,Tuple{Array{Float64,1},Array{Float64,1}}},1},1},ODEProblem{ArrayPartition{Float64,Tuple{Array{Float64,1},Array{Float64,1}}},Tuple{Float64,Float64},true,Nothing,DynamicalODEFunction{true,ODEFunction{true,getfield(DiffEqPhysics, Symbol(\"##15#27\")){typeof(Hamiltonian_Dimer),ForwardDiff.GradientConfig{ForwardDiff.Tag{DiffEqPhysics.PhysicsTag,Float64},Float64,3,Array{ForwardDiff.Dual{ForwardDiff.Tag{DiffEqPhysics.PhysicsTag,Float64},Float64,3},1}}},LinearAlgebra.UniformScaling{Bool},Nothing,Nothing,Nothing,Nothing,Nothing,Nothing,Nothing,Nothing,Nothing},ODEFunction{true,getfield(DiffEqPhysics, Symbol(\"##17#29\")){typeof(Hamiltonian_Dimer),ForwardDiff.GradientConfig{ForwardDiff.Tag{DiffEqPhysics.PhysicsTag,Float64},Float64,3,Array{ForwardDiff.Dual{ForwardDiff.Tag{DiffEqPhysics.PhysicsTag,Float64},Float64,3},1}}},LinearAlgebra.UniformScaling{Bool},Nothing,Nothing,Nothing,Nothing,Nothing,Nothing,Nothing,Nothing,Nothing},Tuple{LinearAlgebra.UniformScaling{Bool},LinearAlgebra.UniformScaling{Bool}},Nothing},Nothing,DiffEqBase.StandardODEProblem},RK4,OrdinaryDiffEq.InterpolationData{DynamicalODEFunction{true,ODEFunction{true,getfield(DiffEqPhysics, Symbol(\"##15#27\")){typeof(Hamiltonian_Dimer),ForwardDiff.GradientConfig{ForwardDiff.Tag{DiffEqPhysics.PhysicsTag,Float64},Float64,3,Array{ForwardDiff.Dual{ForwardDiff.Tag{DiffEqPhysics.PhysicsTag,Float64},Float64,3},1}}},LinearAlgebra.UniformScaling{Bool},Nothing,Nothing,Nothing,Nothing,Nothing,Nothing,Nothing,Nothing,Nothing},ODEFunction{true,getfield(DiffEqPhysics, Symbol(\"##17#29\")){typeof(Hamiltonian_Dimer),ForwardDiff.GradientConfig{ForwardDiff.Tag{DiffEqPhysics.PhysicsTag,Float64},Float64,3,Array{ForwardDiff.Dual{ForwardDiff.Tag{DiffEqPhysics.PhysicsTag,Float64},Float64,3},1}}},LinearAlgebra.UniformScaling{Bool},Nothing,Nothing,Nothing,Nothing,Nothing,Nothing,Nothing,Nothing,Nothing},Tuple{LinearAlgebra.UniformScaling{Bool},LinearAlgebra.UniformScaling{Bool}},Nothing},Array{ArrayPartition{Float64,Tuple{Array{Float64,1},Array{Float64,1}}},1},Array{Float64,1},Array{Array{ArrayPartition{Float64,Tuple{Array{Float64,1},Array{Float64,1}}},1},1},OrdinaryDiffEq.RK4Cache{ArrayPartition{Float64,Tuple{Array{Float64,1},Array{Float64,1}}},ArrayPartition{Float64,Tuple{Array{Float64,1},Array{Float64,1}}},ArrayPartition{Float64,Tuple{Array{Float64,1},Array{Float64,1}}}}},DiffEqBase.DEStats},DynamicalODEFunction{true,ODEFunction{true,getfield(DiffEqPhysics, Symbol(\"##15#27\")){typeof(Hamiltonian_Dimer),ForwardDiff.GradientConfig{ForwardDiff.Tag{DiffEqPhysics.PhysicsTag,Float64},Float64,3,Array{ForwardDiff.Dual{ForwardDiff.Tag{DiffEqPhysics.PhysicsTag,Float64},Float64,3},1}}},LinearAlgebra.UniformScaling{Bool},Nothing,Nothing,Nothing,Nothing,Nothing,Nothing,Nothing,Nothing,Nothing},ODEFunction{true,getfield(DiffEqPhysics, Symbol(\"##17#29\")){typeof(Hamiltonian_Dimer),ForwardDiff.GradientConfig{ForwardDiff.Tag{DiffEqPhysics.PhysicsTag,Float64},Float64,3,Array{ForwardDiff.Dual{ForwardDiff.Tag{DiffEqPhysics.PhysicsTag,Float64},Float64,3},1}}},LinearAlgebra.UniformScaling{Bool},Nothing,Nothing,Nothing,Nothing,Nothing,Nothing,Nothing,Nothing,Nothing},Tuple{LinearAlgebra.UniformScaling{Bool},LinearAlgebra.UniformScaling{Bool}},Nothing},OrdinaryDiffEq.RK4Cache{ArrayPartition{Float64,Tuple{Array{Float64,1},Array{Float64,1}}},ArrayPartition{Float64,Tuple{Array{Float64,1},Array{Float64,1}}},ArrayPartition{Float64,Tuple{Array{Float64,1},Array{Float64,1}}}},OrdinaryDiffEq.DEOptions{Float64,Float64,Float64,Float64,typeof(DiffEqBase.ODE_DEFAULT_NORM),typeof(LinearAlgebra.opnorm),CallbackSet{Tuple{ContinuousCallback{typeof(condition_hits_PSS_q1),Nothing,typeof(affect_update_iterator_q1!),typeof(DiffEqBase.INITIALIZE_DEFAULT),Float64,Int64,Nothing},ContinuousCallback{typeof(condition_hits_PSS_p2),Nothing,typeof(affect_update_iterator_p2!),typeof(DiffEqBase.INITIALIZE_DEFAULT),Float64,Int64,Nothing}},Tuple{DiscreteCallback{typeof(condition_max_hits),typeof(affect_stop!),typeof(DiffEqBase.INITIALIZE_DEFAULT)}}},typeof(DiffEqBase.ODE_DEFAULT_ISOUTOFDOMAIN),typeof(DiffEqBase.ODE_DEFAULT_PROG_MESSAGE),typeof(DiffEqBase.ODE_DEFAULT_UNSTABLE_CHECK),DataStructures.BinaryHeap{Float64,DataStructures.LessThan},DataStructures.BinaryHeap{Float64,DataStructures.LessThan},Nothing,Nothing,Float64,Array{Float64,1},Array{Float64,1},Array{Float64,1}},ArrayPartition{Float64,Tuple{Array{Float64,1},Array{Float64,1}}},Float64,Nothing}) at /home/brandon_behring/.julia/packages/OrdinaryDiffEq/BhP0W/src/integrators/integrator_utils.jl:200",
      " [5] loopfooter! at /home/brandon_behring/.julia/packages/OrdinaryDiffEq/BhP0W/src/integrators/integrator_utils.jl:164 [inlined]",
      " [6] solve!(::OrdinaryDiffEq.ODEIntegrator{RK4,true,ArrayPartition{Float64,Tuple{Array{Float64,1},Array{Float64,1}}},Float64,Nothing,Float64,Float64,Float64,Array{ArrayPartition{Float64,Tuple{Array{Float64,1},Array{Float64,1}}},1},ODESolution{Float64,2,Array{ArrayPartition{Float64,Tuple{Array{Float64,1},Array{Float64,1}}},1},Nothing,Nothing,Array{Float64,1},Array{Array{ArrayPartition{Float64,Tuple{Array{Float64,1},Array{Float64,1}}},1},1},ODEProblem{ArrayPartition{Float64,Tuple{Array{Float64,1},Array{Float64,1}}},Tuple{Float64,Float64},true,Nothing,DynamicalODEFunction{true,ODEFunction{true,getfield(DiffEqPhysics, Symbol(\"##15#27\")){typeof(Hamiltonian_Dimer),ForwardDiff.GradientConfig{ForwardDiff.Tag{DiffEqPhysics.PhysicsTag,Float64},Float64,3,Array{ForwardDiff.Dual{ForwardDiff.Tag{DiffEqPhysics.PhysicsTag,Float64},Float64,3},1}}},LinearAlgebra.UniformScaling{Bool},Nothing,Nothing,Nothing,Nothing,Nothing,Nothing,Nothing,Nothing,Nothing},ODEFunction{true,getfield(DiffEqPhysics, Symbol(\"##17#29\")){typeof(Hamiltonian_Dimer),ForwardDiff.GradientConfig{ForwardDiff.Tag{DiffEqPhysics.PhysicsTag,Float64},Float64,3,Array{ForwardDiff.Dual{ForwardDiff.Tag{DiffEqPhysics.PhysicsTag,Float64},Float64,3},1}}},LinearAlgebra.UniformScaling{Bool},Nothing,Nothing,Nothing,Nothing,Nothing,Nothing,Nothing,Nothing,Nothing},Tuple{LinearAlgebra.UniformScaling{Bool},LinearAlgebra.UniformScaling{Bool}},Nothing},Nothing,DiffEqBase.StandardODEProblem},RK4,OrdinaryDiffEq.InterpolationData{DynamicalODEFunction{true,ODEFunction{true,getfield(DiffEqPhysics, Symbol(\"##15#27\")){typeof(Hamiltonian_Dimer),ForwardDiff.GradientConfig{ForwardDiff.Tag{DiffEqPhysics.PhysicsTag,Float64},Float64,3,Array{ForwardDiff.Dual{ForwardDiff.Tag{DiffEqPhysics.PhysicsTag,Float64},Float64,3},1}}},LinearAlgebra.UniformScaling{Bool},Nothing,Nothing,Nothing,Nothing,Nothing,Nothing,Nothing,Nothing,Nothing},ODEFunction{true,getfield(DiffEqPhysics, Symbol(\"##17#29\")){typeof(Hamiltonian_Dimer),ForwardDiff.GradientConfig{ForwardDiff.Tag{DiffEqPhysics.PhysicsTag,Float64},Float64,3,Array{ForwardDiff.Dual{ForwardDiff.Tag{DiffEqPhysics.PhysicsTag,Float64},Float64,3},1}}},LinearAlgebra.UniformScaling{Bool},Nothing,Nothing,Nothing,Nothing,Nothing,Nothing,Nothing,Nothing,Nothing},Tuple{LinearAlgebra.UniformScaling{Bool},LinearAlgebra.UniformScaling{Bool}},Nothing},Array{ArrayPartition{Float64,Tuple{Array{Float64,1},Array{Float64,1}}},1},Array{Float64,1},Array{Array{ArrayPartition{Float64,Tuple{Array{Float64,1},Array{Float64,1}}},1},1},OrdinaryDiffEq.RK4Cache{ArrayPartition{Float64,Tuple{Array{Float64,1},Array{Float64,1}}},ArrayPartition{Float64,Tuple{Array{Float64,1},Array{Float64,1}}},ArrayPartition{Float64,Tuple{Array{Float64,1},Array{Float64,1}}}}},DiffEqBase.DEStats},DynamicalODEFunction{true,ODEFunction{true,getfield(DiffEqPhysics, Symbol(\"##15#27\")){typeof(Hamiltonian_Dimer),ForwardDiff.GradientConfig{ForwardDiff.Tag{DiffEqPhysics.PhysicsTag,Float64},Float64,3,Array{ForwardDiff.Dual{ForwardDiff.Tag{DiffEqPhysics.PhysicsTag,Float64},Float64,3},1}}},LinearAlgebra.UniformScaling{Bool},Nothing,Nothing,Nothing,Nothing,Nothing,Nothing,Nothing,Nothing,Nothing},ODEFunction{true,getfield(DiffEqPhysics, Symbol(\"##17#29\")){typeof(Hamiltonian_Dimer),ForwardDiff.GradientConfig{ForwardDiff.Tag{DiffEqPhysics.PhysicsTag,Float64},Float64,3,Array{ForwardDiff.Dual{ForwardDiff.Tag{DiffEqPhysics.PhysicsTag,Float64},Float64,3},1}}},LinearAlgebra.UniformScaling{Bool},Nothing,Nothing,Nothing,Nothing,Nothing,Nothing,Nothing,Nothing,Nothing},Tuple{LinearAlgebra.UniformScaling{Bool},LinearAlgebra.UniformScaling{Bool}},Nothing},OrdinaryDiffEq.RK4Cache{ArrayPartition{Float64,Tuple{Array{Float64,1},Array{Float64,1}}},ArrayPartition{Float64,Tuple{Array{Float64,1},Array{Float64,1}}},ArrayPartition{Float64,Tuple{Array{Float64,1},Array{Float64,1}}}},OrdinaryDiffEq.DEOptions{Float64,Float64,Float64,Float64,typeof(DiffEqBase.ODE_DEFAULT_NORM),typeof(LinearAlgebra.opnorm),CallbackSet{Tuple{ContinuousCallback{typeof(condition_hits_PSS_q1),Nothing,typeof(affect_update_iterator_q1!),typeof(DiffEqBase.INITIALIZE_DEFAULT),Float64,Int64,Nothing},ContinuousCallback{typeof(condition_hits_PSS_p2),Nothing,typeof(affect_update_iterator_p2!),typeof(DiffEqBase.INITIALIZE_DEFAULT),Float64,Int64,Nothing}},Tuple{DiscreteCallback{typeof(condition_max_hits),typeof(affect_stop!),typeof(DiffEqBase.INITIALIZE_DEFAULT)}}},typeof(DiffEqBase.ODE_DEFAULT_ISOUTOFDOMAIN),typeof(DiffEqBase.ODE_DEFAULT_PROG_MESSAGE),typeof(DiffEqBase.ODE_DEFAULT_UNSTABLE_CHECK),DataStructures.BinaryHeap{Float64,DataStructures.LessThan},DataStructures.BinaryHeap{Float64,DataStructures.LessThan},Nothing,Nothing,Float64,Array{Float64,1},Array{Float64,1},Array{Float64,1}},ArrayPartition{Float64,Tuple{Array{Float64,1},Array{Float64,1}}},Float64,Nothing}) at /home/brandon_behring/.julia/packages/OrdinaryDiffEq/BhP0W/src/solve.jl:355",
      " [7] #__solve#345(::Base.Iterators.Pairs{Symbol,Any,NTuple{5,Symbol},NamedTuple{(:maxiters, :callback, :save_start, :save_end, :save_everystep),Tuple{Float64,CallbackSet{Tuple{ContinuousCallback{typeof(condition_hits_PSS_q1),Nothing,typeof(affect_update_iterator_q1!),typeof(DiffEqBase.INITIALIZE_DEFAULT),Float64,Int64,Nothing},ContinuousCallback{typeof(condition_hits_PSS_p2),Nothing,typeof(affect_update_iterator_p2!),typeof(DiffEqBase.INITIALIZE_DEFAULT),Float64,Int64,Nothing}},Tuple{DiscreteCallback{typeof(condition_max_hits),typeof(affect_stop!),typeof(DiffEqBase.INITIALIZE_DEFAULT)}}},Bool,Bool,Bool}}}, ::Function, ::ODEProblem{ArrayPartition{Float64,Tuple{Array{Float64,1},Array{Float64,1}}},Tuple{Float64,Float64},true,Nothing,DynamicalODEFunction{true,ODEFunction{true,getfield(DiffEqPhysics, Symbol(\"##15#27\")){typeof(Hamiltonian_Dimer),ForwardDiff.GradientConfig{ForwardDiff.Tag{DiffEqPhysics.PhysicsTag,Float64},Float64,3,Array{ForwardDiff.Dual{ForwardDiff.Tag{DiffEqPhysics.PhysicsTag,Float64},Float64,3},1}}},LinearAlgebra.UniformScaling{Bool},Nothing,Nothing,Nothing,Nothing,Nothing,Nothing,Nothing,Nothing,Nothing},ODEFunction{true,getfield(DiffEqPhysics, Symbol(\"##17#29\")){typeof(Hamiltonian_Dimer),ForwardDiff.GradientConfig{ForwardDiff.Tag{DiffEqPhysics.PhysicsTag,Float64},Float64,3,Array{ForwardDiff.Dual{ForwardDiff.Tag{DiffEqPhysics.PhysicsTag,Float64},Float64,3},1}}},LinearAlgebra.UniformScaling{Bool},Nothing,Nothing,Nothing,Nothing,Nothing,Nothing,Nothing,Nothing,Nothing},Tuple{LinearAlgebra.UniformScaling{Bool},LinearAlgebra.UniformScaling{Bool}},Nothing},Nothing,DiffEqBase.StandardODEProblem}, ::RK4) at /home/brandon_behring/.julia/packages/OrdinaryDiffEq/BhP0W/src/solve.jl:5",
      " [8] #__solve at ./none:0 [inlined]",
      " [9] #solve#381 at /home/brandon_behring/.julia/packages/DiffEqBase/DqkH4/src/solve.jl:39 [inlined]",
      " [10] (::getfield(DiffEqBase, Symbol(\"#kw##solve\")))(::NamedTuple{(:maxiters, :callback, :save_start, :save_end, :save_everystep),Tuple{Float64,CallbackSet{Tuple{ContinuousCallback{typeof(condition_hits_PSS_q1),Nothing,typeof(affect_update_iterator_q1!),typeof(DiffEqBase.INITIALIZE_DEFAULT),Float64,Int64,Nothing},ContinuousCallback{typeof(condition_hits_PSS_p2),Nothing,typeof(affect_update_iterator_p2!),typeof(DiffEqBase.INITIALIZE_DEFAULT),Float64,Int64,Nothing}},Tuple{DiscreteCallback{typeof(condition_max_hits),typeof(affect_stop!),typeof(DiffEqBase.INITIALIZE_DEFAULT)}}},Bool,Bool,Bool}}, ::typeof(solve), ::ODEProblem{ArrayPartition{Float64,Tuple{Array{Float64,1},Array{Float64,1}}},Tuple{Float64,Float64},true,Nothing,DynamicalODEFunction{true,ODEFunction{true,getfield(DiffEqPhysics, Symbol(\"##15#27\")){typeof(Hamiltonian_Dimer),ForwardDiff.GradientConfig{ForwardDiff.Tag{DiffEqPhysics.PhysicsTag,Float64},Float64,3,Array{ForwardDiff.Dual{ForwardDiff.Tag{DiffEqPhysics.PhysicsTag,Float64},Float64,3},1}}},LinearAlgebra.UniformScaling{Bool},Nothing,Nothing,Nothing,Nothing,Nothing,Nothing,Nothing,Nothing,Nothing},ODEFunction{true,getfield(DiffEqPhysics, Symbol(\"##17#29\")){typeof(Hamiltonian_Dimer),ForwardDiff.GradientConfig{ForwardDiff.Tag{DiffEqPhysics.PhysicsTag,Float64},Float64,3,Array{ForwardDiff.Dual{ForwardDiff.Tag{DiffEqPhysics.PhysicsTag,Float64},Float64,3},1}}},LinearAlgebra.UniformScaling{Bool},Nothing,Nothing,Nothing,Nothing,Nothing,Nothing,Nothing,Nothing,Nothing},Tuple{LinearAlgebra.UniformScaling{Bool},LinearAlgebra.UniformScaling{Bool}},Nothing},Nothing,DiffEqBase.StandardODEProblem}, ::RK4) at ./none:0",
      " [11] forward_one(::NTuple{4,Float64}, ::Float64, ::Float64) at /home/brandon_behring/Desktop/Leap_Frog_2019/forward_one.jl:52",
      " [12] macro expansion at ./In[19]:4 [inlined]",
      " [13] macro expansion at /home/brandon_behring/.julia/packages/ProgressMeter/NIpPa/src/ProgressMeter.jl:606 [inlined]",
      " [14] top-level scope at ./In[19]:2"
     ]
    }
   ],
   "source": [
    "new_new_forward=[]\n",
    "\n",
    "@showprogress for point in new_forward\n",
    "    forward_point=forward_one(point, t_end, H)\n",
    "    if forward_point!=nothing\n",
    "        push!(new_new_forward,forward_point)\n",
    "    end\n",
    "end"
   ]
  },
  {
   "cell_type": "code",
   "execution_count": 20,
   "metadata": {},
   "outputs": [
    {
     "data": {
      "text/plain": [
       "28061-element Array{Any,1}:\n",
       " (-3.8143058484005405, 4.5185163893229445, -2.2826826853549225, -2.429263048764971e-16) \n",
       " (2.3368233572938147e-17, -0.6891055559653417, 0.4567970725934264, 2.3128273532210684)  \n",
       " (4.181311893885703e-16, -0.8642997547997545, 0.5267777103945991, 2.235192658974052)    \n",
       " (9.942438280579616e-17, -0.9803232470780509, 0.5869992504476577, 2.1709511602678484)   \n",
       " (1.0570561127281182e-15, -1.065465112252823, 0.6388827955767812, 2.1148773452024283)   \n",
       " (-1.7803891718125597e-16, -1.1316180881811992, 0.6829066143391054, 2.0626477856681373) \n",
       " (2.0015417379698353e-17, -1.1848564847047527, 0.7189889317928682, 2.010627927376374)   \n",
       " (1.9794952799479585e-16, -1.2286572249041563, 0.7466801561341363, 1.955484799117843)   \n",
       " (-8.800834893133049e-17, -1.2651303230176467, 0.7652796417368114, 1.8939027797365449)  \n",
       " (3.819256953479494e-18, -1.295533373379233, 0.7739420895832297, 1.8223647447673084)    \n",
       " (1.0544920952182089e-16, -1.3204499635997597, 0.7718189248847773, 1.7369596806892011)  \n",
       " (2.868627809678023e-16, -1.3397340505430904, 0.7582747643492115, 1.6331850317484453)   \n",
       " (6.052154281418039e-17, -1.3521838330563447, 0.7332047756849717, 1.5056905793937756)   \n",
       " ⋮                                                                                      \n",
       " (1.236395553849201e-15, 0.5616912564233258, 0.46566473128671587, -2.431341677548913)   \n",
       " (1.0749331780019002e-14, 0.0787138444757948, 0.3567831804888604, -2.446020492232077)   \n",
       " (2.1170596531421082e-16, 0.44771629935686547, 0.42768020128953604, -2.4422956515706837)\n",
       " (9.856279874088321e-15, 0.13323979988924234, 0.36168066844882324, -2.447003600433795)  \n",
       " (-1.1350755364005268e-15, 0.5049151966371815, 0.44554854073769007, -2.437160697216169) \n",
       " (1.9135221420571063e-15, 0.37254622453322866, 0.4074255264844301, -2.4475419278278507) \n",
       " (8.694994291445834e-16, 0.43965958096453467, 0.42534128199481286, -2.442946260790793)  \n",
       " (-1.9309740779135512e-15, 0.28185246240930956, 0.3872415074962498, -2.4510283656415557)\n",
       " (1.308636063626482e-15, 0.3629694783878082, 0.4050855675622269, -2.448067084166438)    \n",
       " (1.4525225236479689e-15, 0.1677549652048438, 0.36750516605796185, -2.450094160119255)  \n",
       " (3.359933138953732e-15, 0.27006575733337507, 0.3849263588113934, -2.4512218178239196)  \n",
       " (4.547976096753507e-16, 0.1524803550893966, 0.3652912069954384, -2.4494679474658883)   "
      ]
     },
     "execution_count": 20,
     "metadata": {},
     "output_type": "execute_result"
    }
   ],
   "source": [
    "new_forward"
   ]
  },
  {
   "cell_type": "code",
   "execution_count": 21,
   "metadata": {},
   "outputs": [
    {
     "data": {
      "text/plain": [
       "28095-element Array{Any,1}:\n",
       " (0, -1.1871859296482412, 0.5964949542281096, 0.0)             \n",
       " (0, -1.164572864321608, 0.5870875365366317, 0.0)              \n",
       " (0, -1.1419597989949748, 0.5781394289110859, 0.0)             \n",
       " (0, -1.1193467336683418, 0.5696437188301299, 0.0)             \n",
       " (0, -1.0967336683417086, 0.5615946595599092, 0.0)             \n",
       " (0, -1.0741206030150754, 0.553987639601864, 0.0)              \n",
       " (0, -1.0515075376884422, 0.546819163298087, 0.0)              \n",
       " (0, -1.028894472361809, 0.5400868419928162, 0.0)              \n",
       " (0, -1.006281407035176, 0.5337893953551529, 0.0)              \n",
       " (0, -0.9836683417085427, 0.5279266626539846, 0.0)             \n",
       " (0, -0.9610552763819096, 0.5224996239476887, 0.0)             \n",
       " (0, -0.9384422110552764, 0.5175104313138456, 0.0)             \n",
       " (0, -0.9158291457286433, 0.5129624504025884, 0.0)             \n",
       " ⋮                                                             \n",
       " (0, 1.435929648241206, 3.225802318752766, 4.12819095477387)   \n",
       " (0, 1.425929648241206, 3.16892105994925, 4.12819095477387)    \n",
       " (0, 1.435929648241206, 3.273027615717191, 4.170804020100502)  \n",
       " (0, 1.445929648241206, 3.3274061497292657, 4.160804020100502) \n",
       " (0, 1.435929648241206, 3.250857952651246, 4.1508040201005025) \n",
       " (0, 1.435929648241206, 3.2981040444413807, 4.193417085427136) \n",
       " (0, 1.435929648241206, 3.2759247879878908, 4.173417085427136) \n",
       " (0, 1.435929648241206, 3.3231909813220986, 4.2160301507537685)\n",
       " (0, 1.435929648241206, 3.3010024490582413, 4.196030150753769) \n",
       " (0, 1.435929648241206, 3.348288083375911, 4.238643216080402)  \n",
       " (0, 1.435929648241206, 3.3260905777891523, 4.218643216080403) \n",
       " (0, 1.435929648241206, 3.3511888331346933, 4.241256281407035) "
      ]
     },
     "execution_count": 21,
     "metadata": {},
     "output_type": "execute_result"
    }
   ],
   "source": [
    "cleaned_points"
   ]
  },
  {
   "cell_type": "code",
   "execution_count": 22,
   "metadata": {},
   "outputs": [
    {
     "data": {
      "text/plain": [
       "-1"
      ]
     },
     "execution_count": 22,
     "metadata": {},
     "output_type": "execute_result"
    }
   ],
   "source": [
    "sign(-3)"
   ]
  },
  {
   "cell_type": "code",
   "execution_count": 23,
   "metadata": {},
   "outputs": [
    {
     "data": {
      "text/plain": [
       "negative_time (generic function with 1 method)"
      ]
     },
     "execution_count": 23,
     "metadata": {},
     "output_type": "execute_result"
    }
   ],
   "source": [
    "include(\"negative_time.jl\")\n"
   ]
  },
  {
   "cell_type": "code",
   "execution_count": null,
   "metadata": {},
   "outputs": [],
   "source": []
  }
 ],
 "metadata": {
  "@webio": {
   "lastCommId": null,
   "lastKernelId": null
  },
  "kernelspec": {
   "display_name": "Julia 1.0.3",
   "language": "julia",
   "name": "julia-1.0"
  },
  "language_info": {
   "file_extension": ".jl",
   "mimetype": "application/julia",
   "name": "julia",
   "version": "1.0.3"
  }
 },
 "nbformat": 4,
 "nbformat_minor": 2
}
