{
 "cells": [
  {
   "cell_type": "code",
   "execution_count": 1,
   "metadata": {},
   "outputs": [
    {
     "data": {
      "text/plain": [
       "PSS_function (generic function with 1 method)"
      ]
     },
     "execution_count": 1,
     "metadata": {},
     "output_type": "execute_result"
    }
   ],
   "source": [
    "using DifferentialEquations\n",
    "using PyCall\n",
    "pygui(:qt)\n",
    "using PyPlot\n",
    "pygui(true)\n",
    "include(\"leap_frog_definitions.jl\")\n",
    "include(\"PSS_Definitions_Dimer_X.jl\")"
   ]
  },
  {
   "cell_type": "code",
   "execution_count": 2,
   "metadata": {},
   "outputs": [
    {
     "data": {
      "text/plain": [
       "0.37796447300922725"
      ]
     },
     "execution_count": 2,
     "metadata": {},
     "output_type": "execute_result"
    }
   ],
   "source": [
    "H=.2\n",
    "h=1/(2*H)\n",
    "max_time=100\n",
    "a=(2+h-2*sqrt(h+1))/h\n",
    "Y=Yfind_Aref(1e-3,0,H);\n",
    "Yfind(h)=sqrt(h/(2h+1));\n",
    "P=Yfind(H)"
   ]
  },
  {
   "cell_type": "code",
   "execution_count": 3,
   "metadata": {},
   "outputs": [
    {
     "ename": "MethodError",
     "evalue": "MethodError: no method matching +(::Array{Float64,1}, ::Int64)\nClosest candidates are:\n  +(::Any, ::Any, !Matched::Any, !Matched::Any...) at operators.jl:502\n  +(!Matched::Complex{Bool}, ::Real) at complex.jl:292\n  +(!Matched::Missing, ::Number) at missing.jl:97\n  ...",
     "output_type": "error",
     "traceback": [
      "MethodError: no method matching +(::Array{Float64,1}, ::Int64)\nClosest candidates are:\n  +(::Any, ::Any, !Matched::Any, !Matched::Any...) at operators.jl:502\n  +(!Matched::Complex{Bool}, ::Real) at complex.jl:292\n  +(!Matched::Missing, ::Number) at missing.jl:97\n  ...",
      "",
      "Stacktrace:",
      " [1] top-level scope at In[3]:13"
     ]
    }
   ],
   "source": [
    "H=.1\n",
    "q20=2\n",
    "p20=0\n",
    "q2=q20\n",
    "p2=p20\n",
    "q1=0\n",
    "p1=P1_find_dimer(q20,p20,H)\n",
    "if isempty(p1)\n",
    "    p1=P1_find_dimer_second(q20,p20,H)\n",
    "end\n",
    "Q1=(q1+q2)/sqrt(2)\n",
    "Q2=(q1-q2)/sqrt(2)\n",
    "P1=(p1+p2)/sqrt(2)\n",
    "P2=(p1-p2)/sqrt(2);\n",
    "println(p1)"
   ]
  },
  {
   "cell_type": "code",
   "execution_count": 4,
   "metadata": {},
   "outputs": [
    {
     "ename": "UndefVarError",
     "evalue": "UndefVarError: P2 not defined",
     "output_type": "error",
     "traceback": [
      "UndefVarError: P2 not defined",
      "",
      "Stacktrace:",
      " [1] top-level scope at In[4]:1"
     ]
    }
   ],
   "source": [
    "u0=[Q1;P2;Q2;P1;0;0] # X P Q Y\n",
    "Q0=[Q1,Q2]; P0=[P1,P2];\n",
    "tspan = (0.0,max_time);"
   ]
  },
  {
   "cell_type": "code",
   "execution_count": 5,
   "metadata": {},
   "outputs": [
    {
     "ename": "UndefVarError",
     "evalue": "UndefVarError: Q0 not defined",
     "output_type": "error",
     "traceback": [
      "UndefVarError: Q0 not defined",
      "",
      "Stacktrace:",
      " [1] top-level scope at In[5]:1"
     ]
    }
   ],
   "source": [
    "# Aref_Hamiltonian(Q0[2],P0[2],0)\n",
    "Aref_Hamiltonian(Q0,P0,0)"
   ]
  },
  {
   "cell_type": "code",
   "execution_count": 6,
   "metadata": {},
   "outputs": [
    {
     "ename": "UndefVarError",
     "evalue": "UndefVarError: u0 not defined",
     "output_type": "error",
     "traceback": [
      "UndefVarError: u0 not defined",
      "",
      "Stacktrace:",
      " [1] top-level scope at In[6]:1"
     ]
    }
   ],
   "source": [
    "prob = ODEProblem(Eq_of_M_LAB_FRAME,u0,tspan)\n",
    "t,A=solve(prob, RK4(),reltol=1e-6,abstol=1e-8,maxiters=1e15);"
   ]
  },
  {
   "cell_type": "code",
   "execution_count": 7,
   "metadata": {},
   "outputs": [
    {
     "ename": "UndefVarError",
     "evalue": "UndefVarError: t not defined",
     "output_type": "error",
     "traceback": [
      "UndefVarError: t not defined",
      "",
      "Stacktrace:",
      " [1] top-level scope at In[7]:1"
     ]
    }
   ],
   "source": [
    "N=length(t.t)\n",
    "Z=A[1,:]+im *A[2,:];\n",
    "W=A[3,:]+im *A[4,:];\n",
    "# Energy=zeros(N)\n",
    "# for k=1:N\n",
    "#     Energy[k]=abs(1/(1+Z[k]^2)-1/(1+W[k]^2))\n",
    "# end"
   ]
  },
  {
   "cell_type": "code",
   "execution_count": 8,
   "metadata": {},
   "outputs": [
    {
     "ename": "UndefVarError",
     "evalue": "UndefVarError: A not defined",
     "output_type": "error",
     "traceback": [
      "UndefVarError: A not defined",
      "",
      "Stacktrace:",
      " [1] top-level scope at In[8]:1"
     ]
    }
   ],
   "source": [
    "Q1=A[1,:]\n",
    "Q2=A[3,:]\n",
    "P1=A[4,:]\n",
    "P2=A[2,:];"
   ]
  },
  {
   "cell_type": "code",
   "execution_count": 9,
   "metadata": {},
   "outputs": [],
   "source": [
    "# figure()\n",
    "# plot(Q1,P1,\"b\")\n",
    "# plot(Q2,P2,\"r\");"
   ]
  },
  {
   "cell_type": "code",
   "execution_count": 10,
   "metadata": {},
   "outputs": [
    {
     "ename": "UndefVarError",
     "evalue": "UndefVarError: P1 not defined",
     "output_type": "error",
     "traceback": [
      "UndefVarError: P1 not defined",
      "",
      "Stacktrace:",
      " [1] top-level scope at In[10]:3"
     ]
    }
   ],
   "source": [
    "q1=(Q1+Q2)/sqrt(2)\n",
    "q2=(Q1-Q2)/sqrt(2)\n",
    "p1=(P1+P2)/sqrt(2)\n",
    "p2=(P1-P2)/sqrt(2);"
   ]
  },
  {
   "cell_type": "code",
   "execution_count": 11,
   "metadata": {},
   "outputs": [
    {
     "ename": "PyCall.PyError",
     "evalue": "PyError ($(Expr(:escape, :(ccall(#= /home/brandon_behring/.juliapro/JuliaPro_v1.1.1.1/packages/PyCall/ttONZ/src/pyfncall.jl:44 =# @pysym(:PyObject_Call), PyPtr, (PyPtr, PyPtr, PyPtr), o, pyargsptr, kw))))) <class 'ValueError'>\nValueError('x and y must have same first dimension, but have shapes (1,) and (2,)')\n  File \"/usr/lib/python3/dist-packages/matplotlib/pyplot.py\", line 2813, in plot\n    is not None else {}), **kwargs)\n  File \"/usr/lib/python3/dist-packages/matplotlib/__init__.py\", line 1812, in inner\n    return func(ax, *args, **kwargs)\n  File \"/usr/lib/python3/dist-packages/matplotlib/axes/_axes.py\", line 1611, in plot\n    for line in self._get_lines(*args, **kwargs):\n  File \"/usr/lib/python3/dist-packages/matplotlib/axes/_base.py\", line 393, in _grab_next_args\n    yield from self._plot_args(this, kwargs)\n  File \"/usr/lib/python3/dist-packages/matplotlib/axes/_base.py\", line 370, in _plot_args\n    x, y = self._xy_from_xy(x, y)\n  File \"/usr/lib/python3/dist-packages/matplotlib/axes/_base.py\", line 231, in _xy_from_xy\n    \"have shapes {} and {}\".format(x.shape, y.shape))\n",
     "output_type": "error",
     "traceback": [
      "PyError ($(Expr(:escape, :(ccall(#= /home/brandon_behring/.juliapro/JuliaPro_v1.1.1.1/packages/PyCall/ttONZ/src/pyfncall.jl:44 =# @pysym(:PyObject_Call), PyPtr, (PyPtr, PyPtr, PyPtr), o, pyargsptr, kw))))) <class 'ValueError'>\nValueError('x and y must have same first dimension, but have shapes (1,) and (2,)')\n  File \"/usr/lib/python3/dist-packages/matplotlib/pyplot.py\", line 2813, in plot\n    is not None else {}), **kwargs)\n  File \"/usr/lib/python3/dist-packages/matplotlib/__init__.py\", line 1812, in inner\n    return func(ax, *args, **kwargs)\n  File \"/usr/lib/python3/dist-packages/matplotlib/axes/_axes.py\", line 1611, in plot\n    for line in self._get_lines(*args, **kwargs):\n  File \"/usr/lib/python3/dist-packages/matplotlib/axes/_base.py\", line 393, in _grab_next_args\n    yield from self._plot_args(this, kwargs)\n  File \"/usr/lib/python3/dist-packages/matplotlib/axes/_base.py\", line 370, in _plot_args\n    x, y = self._xy_from_xy(x, y)\n  File \"/usr/lib/python3/dist-packages/matplotlib/axes/_base.py\", line 231, in _xy_from_xy\n    \"have shapes {} and {}\".format(x.shape, y.shape))\n",
      "",
      "Stacktrace:",
      " [1] pyerr_check at /home/brandon_behring/.juliapro/JuliaPro_v1.1.1.1/packages/PyCall/ttONZ/src/exception.jl:60 [inlined]",
      " [2] pyerr_check at /home/brandon_behring/.juliapro/JuliaPro_v1.1.1.1/packages/PyCall/ttONZ/src/exception.jl:64 [inlined]",
      " [3] macro expansion at /home/brandon_behring/.juliapro/JuliaPro_v1.1.1.1/packages/PyCall/ttONZ/src/exception.jl:84 [inlined]",
      " [4] __pycall!(::PyObject, ::Ptr{PyCall.PyObject_struct}, ::PyObject, ::Ptr{Nothing}) at /home/brandon_behring/.juliapro/JuliaPro_v1.1.1.1/packages/PyCall/ttONZ/src/pyfncall.jl:44",
      " [5] _pycall!(::PyObject, ::PyObject, ::Tuple{Float64,Array{Float64,1},String}, ::Int64, ::Ptr{Nothing}) at /home/brandon_behring/.juliapro/JuliaPro_v1.1.1.1/packages/PyCall/ttONZ/src/pyfncall.jl:29",
      " [6] _pycall!(::PyObject, ::PyObject, ::Tuple{Float64,Array{Float64,1},String}, ::Base.Iterators.Pairs{Union{},Union{},Tuple{},NamedTuple{(),Tuple{}}}) at /home/brandon_behring/.juliapro/JuliaPro_v1.1.1.1/packages/PyCall/ttONZ/src/pyfncall.jl:11",
      " [7] #pycall#110(::Base.Iterators.Pairs{Union{},Union{},Tuple{},NamedTuple{(),Tuple{}}}, ::Function, ::PyObject, ::Type{PyAny}, ::Float64, ::Vararg{Any,N} where N) at /home/brandon_behring/.juliapro/JuliaPro_v1.1.1.1/packages/PyCall/ttONZ/src/pyfncall.jl:86",
      " [8] pycall(::PyObject, ::Type{PyAny}, ::Float64, ::Vararg{Any,N} where N) at /home/brandon_behring/.juliapro/JuliaPro_v1.1.1.1/packages/PyCall/ttONZ/src/pyfncall.jl:86",
      " [9] #plot#85(::Base.Iterators.Pairs{Union{},Union{},Tuple{},NamedTuple{(),Tuple{}}}, ::Function, ::Float64, ::Vararg{Any,N} where N) at /home/brandon_behring/.juliapro/JuliaPro_v1.1.1.1/packages/PyPlot/cdCMF/src/PyPlot.jl:177",
      " [10] plot(::Float64, ::Vararg{Any,N} where N) at /home/brandon_behring/.juliapro/JuliaPro_v1.1.1.1/packages/PyPlot/cdCMF/src/PyPlot.jl:174",
      " [11] top-level scope at In[11]:2"
     ]
    }
   ],
   "source": [
    "figure()\n",
    "plot(q1,p1,\"b\")\n",
    "plot(q2,p2,\"r\");"
   ]
  },
  {
   "cell_type": "code",
   "execution_count": 12,
   "metadata": {},
   "outputs": [
    {
     "ename": "UndefVarError",
     "evalue": "UndefVarError: A not defined",
     "output_type": "error",
     "traceback": [
      "UndefVarError: A not defined",
      "",
      "Stacktrace:",
      " [1] top-level scope at In[12]:1"
     ]
    }
   ],
   "source": [
    "Centeroid=A[5,:]+im *A[6,:];\n",
    "\n",
    "lin_impulse=im*(1+a )*ones(N);\n",
    "z_1pos=.5*(Centeroid+Z+lin_impulse+W);\n",
    "z_1neg=.5*(Centeroid+Z-lin_impulse-W);\n",
    "z_2pos=.5*(Centeroid-Z+lin_impulse-W);\n",
    "z_2neg=.5*(Centeroid-Z-lin_impulse+W);\n",
    "\n",
    "z_1posX=real(z_1pos)\n",
    "z_1posY=imag(z_1pos)\n",
    "\n",
    "z_2posX=real(z_2pos)\n",
    "z_2posY=imag(z_2pos)\n",
    "\n",
    "z_1negX=real(z_1neg)\n",
    "z_1negY=imag(z_1neg)\n",
    "\n",
    "z_2negX=real(z_2neg)\n",
    "z_2negY=imag(z_2neg)\n",
    "\n",
    "figure()\n",
    "plot(z_1posX,z_1posY,c=\"b\",linewidth=2)\n",
    "plot(z_1negX,z_1negY,c=\"r\",linewidth=2)\n",
    "plot(z_2posX,z_2posY,c=\"b\",linewidth=1)\n",
    "plot(z_2negX,z_2negY,c=\"r\",linewidth=1)\n",
    "axis(\"equal\");"
   ]
  },
  {
   "cell_type": "markdown",
   "metadata": {},
   "source": [
    "The Poincare' Surface of section for this orbit is "
   ]
  },
  {
   "cell_type": "code",
   "execution_count": 13,
   "metadata": {},
   "outputs": [],
   "source": [
    "N_iter_Q=10;#50\n",
    "Q_start=-.3\n",
    "Q_end=.3\n",
    "N_iter_P=10\n",
    "P_start=-.01\n",
    "P_end=.01;\n",
    "\n",
    "ArrP=range(P_start,stop=P_end,length=N_iter_P)\n",
    "ArrQ=range(Q_start,stop=Q_end,length=N_iter_Q)\n",
    "\n",
    "Brandons_Colors=[\"#393b79\" ,\"#5254a3\",\"#6b6ecf\",\"#9c9ede\" ,\"#637939\",\"#8ca252\" ,\"#b5cf6b\" ,\"#cedb9c\" ,\"#8c6d31\",\"#bd9e39\" ,\"#e7ba52\",\"#e7cb94\",\"#843c39\",\"#ad494a\" ,\"#d6616b\",\"#e7969c\" ,\"#7b4173\" ,\"#a55194\",\"#ce6dbd\" ,\"#de9ed6\"];"
   ]
  },
  {
   "cell_type": "code",
   "execution_count": 14,
   "metadata": {},
   "outputs": [
    {
     "name": "stdout",
     "output_type": "stream",
     "text": [
      " 44.079327 seconds (172.54 M allocations: 5.609 GiB, 10.44% gc time)\n"
     ]
    }
   ],
   "source": [
    "figure()\n",
    "@time Q_PSS,P_PSS=PSS_function(q20, p20, H, 1e6);\n",
    "plot(Q_PSS,P_PSS,\".\", markersize=2, c=\"k\");\n",
    "# @time Q_PSS,P_PSS=PSS_function(q2, -p2, H, 1e4);\n",
    "# plot(Q_PSS,P_PSS,\".\", markersize=2, c=\"k\");\n",
    "# @time Q_PSS,P_PSS=PSS_function(-q2, p2, H, 1e4);\n",
    "# plot(Q_PSS,P_PSS,\".\", markersize=2, c=\"k\");\n",
    "# @time Q_PSS,P_PSS=PSS_function(-q2, -p2, H, 1e4);\n",
    "# plot(Q_PSS,P_PSS,\".\", markersize=2, c=\"k\");"
   ]
  },
  {
   "cell_type": "code",
   "execution_count": 15,
   "metadata": {},
   "outputs": [],
   "source": [
    "# @time for k=1:N_iter_P\n",
    "#     for j=1:N_iter_Q\n",
    "#         Q_PSS,P_PSS,dH=PSS_function(ArrQ[j], ArrP[k], H, t_max)       \n",
    "#         current_color=Brandons_Colors[mod(j,length(Brandons_Colors))+1]\n",
    "#         if dH!=1\n",
    "#             plot(P_PSS,Q_PSS,\".\", markersize=.1,c=current_color);\n",
    "#         end\n",
    "#     end\n",
    "# end\n",
    "# xlabel(\"P\")\n",
    "# ylabel(\"Q\")\n",
    "# xlim(-.01,.01) \n",
    "# ylim(-.3,.3) "
   ]
  },
  {
   "cell_type": "code",
   "execution_count": null,
   "metadata": {},
   "outputs": [],
   "source": []
  }
 ],
 "metadata": {
  "@webio": {
   "lastCommId": null,
   "lastKernelId": null
  },
  "kernelspec": {
   "display_name": "Julia 1.1.1",
   "language": "julia",
   "name": "julia-1.1"
  },
  "language_info": {
   "file_extension": ".jl",
   "mimetype": "application/julia",
   "name": "julia",
   "version": "1.1.1"
  }
 },
 "nbformat": 4,
 "nbformat_minor": 2
}
