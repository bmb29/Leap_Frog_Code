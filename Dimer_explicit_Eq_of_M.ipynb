{
 "cells": [
  {
   "cell_type": "code",
   "execution_count": 1,
   "metadata": {},
   "outputs": [
    {
     "data": {
      "text/plain": [
       "PSS_function (generic function with 1 method)"
      ]
     },
     "execution_count": 1,
     "metadata": {},
     "output_type": "execute_result"
    }
   ],
   "source": [
    "using DifferentialEquations\n",
    "using PyCall\n",
    "pygui(:qt)\n",
    "using PyPlot\n",
    "pygui(true)\n",
    "include(\"leap_frog_definitions.jl\")\n",
    "include(\"PSS_Definitions_Dimer_X.jl\")"
   ]
  },
  {
   "cell_type": "code",
   "execution_count": 2,
   "metadata": {},
   "outputs": [],
   "source": [
    "H=.19\n",
    "max_time=100\n",
    "q20_braid=1\n",
    "p20_braid=0\n",
    "q2=q20_braid\n",
    "p2=p20_braid\n",
    "q1=0.\n",
    "p1=P1_find_dimer(q20_braid,p20_braid,H)\n",
    "Q=[q1, q2]\n",
    "P=[p1, p2];"
   ]
  },
  {
   "cell_type": "code",
   "execution_count": 3,
   "metadata": {},
   "outputs": [
    {
     "data": {
      "text/plain": [
       "0.18999999999999997"
      ]
     },
     "execution_count": 3,
     "metadata": {},
     "output_type": "execute_result"
    }
   ],
   "source": [
    "Hamiltonian_Dimer(Q,P,0)"
   ]
  },
  {
   "cell_type": "code",
   "execution_count": 4,
   "metadata": {},
   "outputs": [
    {
     "name": "stdout",
     "output_type": "stream",
     "text": [
      "  4.172738 seconds (20.62 M allocations: 933.538 MiB, 9.57% gc time)\n"
     ]
    },
    {
     "data": {
      "text/plain": [
       "retcode: Success\n",
       "Interpolation: specialized 4th order \"free\" interpolation\n",
       "t: 1079-element Array{Float64,1}:\n",
       "   0.0                   \n",
       "   1.0e-6                \n",
       "   1.1e-5                \n",
       "   0.00011099999999999999\n",
       "   0.0011109999999999998 \n",
       "   0.011110999999999996  \n",
       "   0.06910740021206324   \n",
       "   0.10300534688871653   \n",
       "   0.18058627479545336   \n",
       "   0.21973042446664573   \n",
       "   0.29731883645143414   \n",
       "   0.3429435124835686    \n",
       "   0.4286528964437667    \n",
       "   ⋮                     \n",
       "  99.14869674109256      \n",
       "  99.21874409978179      \n",
       "  99.29460550643516      \n",
       "  99.3751850516028       \n",
       "  99.45801167349968      \n",
       "  99.543195596747        \n",
       "  99.62885050142206      \n",
       "  99.71549306335314      \n",
       "  99.80119919562014      \n",
       "  99.88754094018896      \n",
       "  99.97319600139281      \n",
       " 100.0                   \n",
       "u: 1079-element Array{ArrayPartition{Float64,Tuple{Array{Float64,1},Array{Float64,1}}},1}:\n",
       " [0.0, 1.0][0.41269757870984125, 0.0]                                                   \n",
       " [-4.903370193179396e-7, 1.0000000000000389][0.41269757870957435, -8.731814366333927e-8]\n",
       " [-5.393707212349977e-6, 1.0000000000046934][0.41269757867754475, -9.604995802774498e-7]\n",
       " [-5.442740899162751e-5, 1.0000000004779073][0.4126975754211993, -9.692313926655126e-6] \n",
       " [-0.000544764275373225, 1.0000000478768594][0.41269724925290857, -9.701043757886773e-5]\n",
       " [-0.005447981492781875, 1.0000047883765533][0.4126646279257901, -0.0009701718581979471]\n",
       " [-0.033849087067531376, 1.0001849862746846][0.4114241137073449, -0.006029513446891357] \n",
       " [-0.050385441087103744, 1.0004102678105897][0.4098718603041336, -0.008978305147069121] \n",
       " [-0.0878925896136051, 1.0012528867141073][0.4040521480953176, -0.015682994145756208]   \n",
       " [-0.10656274309648292, 1.0018463730707958][0.39993965849338925, -0.01903298809296422]  \n",
       " [-0.1428762112508473, 1.003340710244695][0.38953316701245455, -0.025584314321311342]   \n",
       " [-0.16370482221439847, 1.0044063604216222][0.3820645066294842, -0.029370237773651206]  \n",
       " [-0.20154875441859432, 1.0067500544420591][0.36548812675707226, -0.03632277031578854]  \n",
       " ⋮                                                                                      \n",
       " [0.001644902223570822, -1.0343947154586022][0.41435685287234364, 0.1489008809104202]   \n",
       " [-0.0321923857141088, -1.0367446441534767][0.41204112828404593, 0.15609189055403228]   \n",
       " [-0.06876034433173567, -1.0396821984708884][0.4065839864218622, 0.16400105746343654]   \n",
       " [-0.10720390469051569, -1.0432481052682177][0.3974368895248165, 0.1725012233297933]    \n",
       " [-0.1459291688901947, -1.0473801312498447][0.3845021762320821, 0.18129861274038991]    \n",
       " [-0.18451704173256597, -1.0520979004337137][0.36760247111581484, 0.19035853752945794]  \n",
       " [-0.2216342662640743, -1.0572804118607009][0.34714918557889995, 0.1994287866954334]    \n",
       " [-0.25705029624037706, -1.0629151285808847][0.3232272135041296, 0.20851363186892688]   \n",
       " [-0.28960643250723705, -1.068810938619328][0.2967197367276591, 0.2173701230949366]     \n",
       " [-0.3195935848089395, -1.074998744076296][0.2675563301064116, 0.22613083558604055]     \n",
       " [-0.3463047514144065, -1.0813044827785052][0.23660285032946363, 0.23464430171313103]   \n",
       " [-0.3540116560991457, -1.0832993759591303][0.22656897115865818, 0.23727108930882446]   "
      ]
     },
     "execution_count": 4,
     "metadata": {},
     "output_type": "execute_result"
    }
   ],
   "source": [
    "prob = HamiltonianProblem{true}(Hamiltonian_Dimer, Q, P, (0., max_time))\n",
    "sol=@time solve(prob, Tsit5(),maxiters=1e20,reltol=1e-8,abstol=1e-10)"
   ]
  },
  {
   "cell_type": "code",
   "execution_count": 5,
   "metadata": {},
   "outputs": [],
   "source": [
    "q1_sol=sol[1,:]\n",
    "q2_sol=sol[2,:]\n",
    "p1_sol=sol[3,:]\n",
    "p2_sol=sol[4,:];"
   ]
  },
  {
   "cell_type": "code",
   "execution_count": 6,
   "metadata": {},
   "outputs": [
    {
     "name": "stderr",
     "output_type": "stream",
     "text": [
      "libGL error: MESA-LOADER: failed to open radeonsi (search paths /usr/lib/x86_64-linux-gnu/dri:\\$${ORIGIN}/dri:/usr/lib/dri)\n",
      "libGL error: failed to load driver: radeonsi\n",
      "libGL error: MESA-LOADER: failed to open radeonsi (search paths /usr/lib/x86_64-linux-gnu/dri:\\$${ORIGIN}/dri:/usr/lib/dri)\n",
      "libGL error: failed to load driver: radeonsi\n",
      "libGL error: MESA-LOADER: failed to open swrast (search paths /usr/lib/x86_64-linux-gnu/dri:\\$${ORIGIN}/dri:/usr/lib/dri)\n",
      "libGL error: failed to load driver: swrast\n"
     ]
    },
    {
     "data": {
      "text/plain": [
       "1-element Array{PyObject,1}:\n",
       " PyObject <matplotlib.lines.Line2D object at 0x7f61099cc6a0>"
      ]
     },
     "execution_count": 6,
     "metadata": {},
     "output_type": "execute_result"
    }
   ],
   "source": [
    "figure()\n",
    "plot(q1_sol,p1_sol,c=:red)\n",
    "plot(q2_sol,p2_sol,c=:blue)"
   ]
  },
  {
   "cell_type": "code",
   "execution_count": 7,
   "metadata": {},
   "outputs": [
    {
     "name": "stdout",
     "output_type": "stream",
     "text": [
      "  1.937383 seconds (9.34 M allocations: 435.309 MiB, 7.78% gc time)\n"
     ]
    }
   ],
   "source": [
    "u0=[q1,q2,p1,p2,0,0]\n",
    "prob_explicit = ODEProblem(Dimer_Eq_of_M_hits,u0,(0., max_time))\n",
    "sol_e=@time solve(prob_explicit, Tsit5(),maxiters=1e20,reltol=1e-8,abstol=1e-10);"
   ]
  },
  {
   "cell_type": "code",
   "execution_count": 8,
   "metadata": {},
   "outputs": [
    {
     "data": {
      "text/plain": [
       "1129-element Array{Float64,1}:\n",
       "  0.0                  \n",
       " -0.0004780382736768539\n",
       " -0.0016698037642335095\n",
       " -0.003299105759809653 \n",
       " -0.005294124291303146 \n",
       " -0.007716131587297698 \n",
       " -0.010523422665149726 \n",
       " -0.013717746624624801 \n",
       " -0.01726263135680047  \n",
       " -0.021132924681976768 \n",
       " -0.0252899644186915   \n",
       " -0.02969688717739801  \n",
       " -0.034311794155455495 \n",
       "  ⋮                    \n",
       "  0.14918767443000405  \n",
       "  0.15699477308846765  \n",
       "  0.16483917900438064  \n",
       "  0.17306824148986796  \n",
       "  0.1813480095513302   \n",
       "  0.18972153070280942  \n",
       "  0.19807383253531027  \n",
       "  0.20637996478037077  \n",
       "  0.21458793599686454  \n",
       "  0.222680946539741    \n",
       "  0.23065338013308662  \n",
       "  0.237270973793293    "
      ]
     },
     "execution_count": 8,
     "metadata": {},
     "output_type": "execute_result"
    }
   ],
   "source": [
    "q1_sol_e=sol_e[1,:]\n",
    "q2_sol_e=sol_e[2,:]\n",
    "p1_sol_e=sol_e[3,:]\n",
    "p2_sol_e=sol_e[4,:]"
   ]
  },
  {
   "cell_type": "code",
   "execution_count": 9,
   "metadata": {},
   "outputs": [
    {
     "data": {
      "text/plain": [
       "1-element Array{PyObject,1}:\n",
       " PyObject <matplotlib.lines.Line2D object at 0x7f61085f1128>"
      ]
     },
     "execution_count": 9,
     "metadata": {},
     "output_type": "execute_result"
    }
   ],
   "source": [
    "figure()\n",
    "plot(q1_sol_e,p1_sol_e,c=:green)\n",
    "plot(q2_sol_e,p2_sol_e,c=:black)"
   ]
  },
  {
   "cell_type": "code",
   "execution_count": 10,
   "metadata": {},
   "outputs": [
    {
     "data": {
      "text/plain": [
       "1-element Array{PyObject,1}:\n",
       " PyObject <matplotlib.lines.Line2D object at 0x7f6108f532b0>"
      ]
     },
     "execution_count": 10,
     "metadata": {},
     "output_type": "execute_result"
    }
   ],
   "source": [
    "figure()\n",
    "plot(sol.t,q1_sol,c=:blue)\n",
    "plot(sol_e.t,q1_sol_e, c=:red)\n",
    "\n"
   ]
  },
  {
   "cell_type": "code",
   "execution_count": 11,
   "metadata": {},
   "outputs": [],
   "source": [
    "using LinearAlgebra"
   ]
  },
  {
   "cell_type": "code",
   "execution_count": 12,
   "metadata": {},
   "outputs": [
    {
     "data": {
      "text/plain": [
       "1.0"
      ]
     },
     "execution_count": 12,
     "metadata": {},
     "output_type": "execute_result"
    }
   ],
   "source": [
    "p1=[0,1]\n",
    "p2=[1,1]\n",
    "norm(p1-p2)"
   ]
  },
  {
   "cell_type": "code",
   "execution_count": 13,
   "metadata": {},
   "outputs": [
    {
     "data": {
      "text/plain": [
       "0.0"
      ]
     },
     "execution_count": 13,
     "metadata": {},
     "output_type": "execute_result"
    }
   ],
   "source": [
    "sol_e[5,end]"
   ]
  },
  {
   "cell_type": "code",
   "execution_count": null,
   "metadata": {},
   "outputs": [],
   "source": []
  }
 ],
 "metadata": {
  "kernelspec": {
   "display_name": "Julia 1.2.0",
   "language": "julia",
   "name": "julia-1.2"
  },
  "language_info": {
   "file_extension": ".jl",
   "mimetype": "application/julia",
   "name": "julia",
   "version": "1.2.0"
  }
 },
 "nbformat": 4,
 "nbformat_minor": 2
}
