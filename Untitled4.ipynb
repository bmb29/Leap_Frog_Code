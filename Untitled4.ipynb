{
 "cells": [
  {
   "cell_type": "code",
   "execution_count": 1,
   "metadata": {},
   "outputs": [
    {
     "data": {
      "text/plain": [
       "PSS_function (generic function with 1 method)"
      ]
     },
     "execution_count": 1,
     "metadata": {},
     "output_type": "execute_result"
    }
   ],
   "source": [
    "using DifferentialEquations\n",
    "using PyCall\n",
    "pygui(:qt)\n",
    "using PyPlot\n",
    "pygui(true)\n",
    "include(\"leap_frog_definitions.jl\")\n",
    "include(\"PSS_Definitions_Dimer_X.jl\")"
   ]
  },
  {
   "cell_type": "code",
   "execution_count": 10,
   "metadata": {},
   "outputs": [],
   "source": [
    "H=.19\n",
    "max_time=100\n",
    "\n",
    "q20_braid=1\n",
    "p20_braid=0\n",
    "q2=q20_braid\n",
    "p2=p20_braid\n",
    "q1=0.\n",
    "p1=P1_find_dimer(q20_braid,p20_braid,H)\n",
    "Q=[q1, q2]\n",
    "P=[p1, p2];"
   ]
  },
  {
   "cell_type": "code",
   "execution_count": 4,
   "metadata": {},
   "outputs": [
    {
     "data": {
      "text/plain": [
       "0.18999999999999997"
      ]
     },
     "execution_count": 4,
     "metadata": {},
     "output_type": "execute_result"
    }
   ],
   "source": [
    "Hamiltonian_Dimer(Q,P,0)"
   ]
  },
  {
   "cell_type": "code",
   "execution_count": 12,
   "metadata": {},
   "outputs": [],
   "source": [
    "prob = HamiltonianProblem{true}(Hamiltonian_Dimer, Q, P, (0., max_time))\n",
    "sol=solve(prob, Tsit5(),maxiters=1e20,reltol=1e-8,abstol=1e-10);\n",
    "q1_sol=sol[1,:]\n",
    "q2_sol=sol[2,:]\n",
    "p1_sol=sol[3,:]\n",
    "p2_sol=sol[4,:];"
   ]
  },
  {
   "cell_type": "code",
   "execution_count": 15,
   "metadata": {},
   "outputs": [
    {
     "data": {
      "text/plain": [
       "1-element Array{PyObject,1}:\n",
       " PyObject <matplotlib.lines.Line2D object at 0x7fd7a4f30898>"
      ]
     },
     "execution_count": 15,
     "metadata": {},
     "output_type": "execute_result"
    }
   ],
   "source": [
    "plot(q1_sol,p1_sol,c=:red)\n",
    "plot(q2_sol,p2_sol,c=:blue)"
   ]
  },
  {
   "cell_type": "code",
   "execution_count": 16,
   "metadata": {},
   "outputs": [
    {
     "ename": "UndefVarError",
     "evalue": "UndefVarError: t_end not defined",
     "output_type": "error",
     "traceback": [
      "UndefVarError: t_end not defined",
      "",
      "Stacktrace:",
      " [1] top-level scope at In[16]:2"
     ]
    }
   ],
   "source": [
    "u0=[q1,q2,p1,p2]\n",
    "prob_explicit = ODEProblem(Dimer_Eq_of_M,u0,(0., t_end))\n",
    "sol_e=solve(prob, Tsit5(),maxiters=1e20,reltol=1e-8,abstol=1e-10);\n",
    "q1_sol_e=sol_e[1,:]\n",
    "q2_sol_e=sol_e[2,:]\n",
    "p1_sol_e=sol_e[3,:]\n",
    "p2_sol_e=sol_e[4,:];"
   ]
  },
  {
   "cell_type": "code",
   "execution_count": null,
   "metadata": {},
   "outputs": [],
   "source": []
  }
 ],
 "metadata": {
  "kernelspec": {
   "display_name": "Julia 1.2.0",
   "language": "julia",
   "name": "julia-1.2"
  },
  "language_info": {
   "file_extension": ".jl",
   "mimetype": "application/julia",
   "name": "julia",
   "version": "1.2.0"
  }
 },
 "nbformat": 4,
 "nbformat_minor": 2
}
