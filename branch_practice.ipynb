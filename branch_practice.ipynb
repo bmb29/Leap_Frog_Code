{
 "cells": [
  {
   "cell_type": "code",
   "execution_count": 1,
   "metadata": {},
   "outputs": [],
   "source": [
    "include(\"leap_frog_definitions.jl\")\n",
    "using PyCall\n",
    "# pygui(:qt)\n",
    "using PyPlot\n",
    "# pygui(true)\n",
    "using PolynomialRoots"
   ]
  },
  {
   "cell_type": "code",
   "execution_count": 4,
   "metadata": {},
   "outputs": [
    {
     "name": "stdout",
     "output_type": "stream",
     "text": [
      "  0.020939 seconds (7.92 k allocations: 388.609 KiB, 82.09% gc time)\n"
     ]
    },
    {
     "data": {
      "text/plain": [
       "2-element Array{Float64,1}:\n",
       " 0.37985735811492055\n",
       " 3.084244257022834  "
      ]
     },
     "execution_count": 4,
     "metadata": {},
     "output_type": "execute_result"
    }
   ],
   "source": [
    "@time P1_find_dimer(1,1,1/4)"
   ]
  },
  {
   "cell_type": "code",
   "execution_count": 16,
   "metadata": {},
   "outputs": [
    {
     "data": {
      "text/plain": [
       "poly_dimer (generic function with 1 method)"
      ]
     },
     "execution_count": 16,
     "metadata": {},
     "output_type": "execute_result"
    }
   ],
   "source": [
    "poly_dimer(X) = (-16)*H^2 + 32*H^2*P^2 + (-24)*H^2*P^4 +8*H^2*P^6 + (-1)*H^2*P^8 + (-32)*H^2*Q^2 + 16*H^2*P^2*Q^2 + 8*H^2*P^4*Q^2 + (-4)*H^2*P^6*Q^2 + (-24)*H^2*Q^4 + (-8)*H^2*P^2*Q^4 + (-6)*H^2*P^4*Q^4 + (-8)*H^2*Q^6 + (-4)*H^2*P^2*Q^6 + (-1)*H^2*Q^8 +\n",
    "(32*H^2 + 16*P^2 + (-16)*H^2*P^2 + (-8)*H^2*P^4 + 4*H^2*P^6 + 16*Q^2 + 16*H^2*Q^2 + (-80)*H^2*P^2*Q^2 + 4*H^2*P^4*Q^2 + (-8)*H^2*Q^4 + (-4)*H^2*P^2*Q^4 + (-4)*H^2*Q^6)* X^2 +\n",
    "((-24)*H^2 + (-8)*H^2*P^2 + (-6)*H^2*P^4 + 8*H^2*Q^2 +  4*H^2*P^2*Q^2 + (-6)*H^2*Q^4)* X^4 +\n",
    "(8*H^2 + 4*H^2*P^2 + (-4)*H^2*Q^2)*X^6+\n",
    "(-1)*H^2*X^8"
   ]
  },
  {
   "cell_type": "code",
   "execution_count": 10,
   "metadata": {},
   "outputs": [],
   "source": [
    "Q=3;\n",
    "P=0;\n",
    "H=1/4;\n",
    "\n",
    "coeff=(-16)*H^2 + 32*H^2*P^2 + (-24)*H^2*P^4 +8*H^2*P^6 + (-1)*H^2*P^8 + (-32)*H^2*Q^2 + 16*H^2*P^2*Q^2 + 8*H^2*P^4*Q^2 + (-4)*H^2*P^6*Q^2 + (-24)*H^2*Q^4 + (-8)*H^2*P^2*Q^4 + (-6)*H^2*P^4*Q^4 + (-8)*H^2*Q^6 + (-4)*H^2*P^2*Q^6 + (-1)*H^2*Q^8\n",
    "coeff2=(32*H^2 + 16*P^2 + (-16)*H^2*P^2 + (-8)*H^2*P^4 + 4*H^2*P^6 + 16*Q^2 + 16*H^2*Q^2 + (-80)*H^2*P^2*Q^2 + 4*H^2*P^4*Q^2 + (-8)*H^2*Q^4 + (-4)*H^2*P^2*Q^4 + (-4)*H^2*Q^6)\n",
    "coeff4=((-24)*H^2 + (-8)*H^2*P^2 + (-6)*H^2*P^4 + 8*H^2*Q^2 +  4*H^2*P^2*Q^2 + (-6)*H^2*Q^4)\n",
    "coeff6=(8*H^2 + 4*H^2*P^2 + (-4)*H^2*Q^2)\n",
    "coeff8=(-1)*H^2;\n",
    "\n",
    "poynomial8=[coeff,0,coeff2,0,coeff4,0,coeff6,0,coeff8];\n",
    "poynomial4=[coeff,coeff2,coeff4,coeff6,coeff8];"
   ]
  },
  {
   "cell_type": "code",
   "execution_count": 3,
   "metadata": {},
   "outputs": [
    {
     "name": "stdout",
     "output_type": "stream",
     "text": [
      "  0.345805 seconds (1.51 M allocations: 75.813 MiB, 4.50% gc time)\n"
     ]
    },
    {
     "data": {
      "text/plain": [
       "4-element Array{Complex{Float64},1}:\n",
       "  -13.928203230275509 + 14.252664268946564im\n",
       "   -13.92820323027551 - 14.252664268946564im\n",
       " -0.07179676972449084 - 6.071372269651556im \n",
       " -0.07179676972449096 + 6.071372269651556im "
      ]
     },
     "execution_count": 3,
     "metadata": {},
     "output_type": "execute_result"
    }
   ],
   "source": [
    "@time sol=roots(poynomial4,polish=true)\n",
    "for k in 1:length(sol)\n",
    "    if abs(imag(sol[k]))<1e-15\n",
    "        sol[k]=real(sol[k])\n",
    "    end\n",
    "end\n",
    "sol"
   ]
  },
  {
   "cell_type": "code",
   "execution_count": 68,
   "metadata": {},
   "outputs": [
    {
     "data": {
      "text/plain": [
       "4-element Array{Complex{Float64},1}:\n",
       "   5.931320629755366 + 0.0im               \n",
       "  0.3977653644319452 + 3.9573734448200044im\n",
       " 0.39776536443194516 - 3.957373444820004im \n",
       "  0.2731486413807442 + 0.0im               "
      ]
     },
     "execution_count": 68,
     "metadata": {},
     "output_type": "execute_result"
    }
   ],
   "source": [
    "sol=roots(poynomial4)\n",
    "for k in 1:length(sol)\n",
    "    if abs(imag(sol[k]))<1e-15\n",
    "        sol[k]=real(sol[k])\n",
    "    end\n",
    "end\n",
    "sol"
   ]
  },
  {
   "cell_type": "code",
   "execution_count": 182,
   "metadata": {},
   "outputs": [
    {
     "data": {
      "text/plain": [
       "P1_poly (generic function with 1 method)"
      ]
     },
     "execution_count": 182,
     "metadata": {},
     "output_type": "execute_result"
    }
   ],
   "source": [
    "function P1_poly(Q,P,H)  \n",
    "    coeff=(-16)*H^2 + 32*H^2*P^2 + (-24)*H^2*P^4 +8*H^2*P^6 + (-1)*H^2*P^8 + (-32)*H^2*Q^2 + 16*H^2*P^2*Q^2 + 8*H^2*P^4*Q^2 + (-4)*H^2*P^6*Q^2 + (-24)*H^2*Q^4 + (-8)*H^2*P^2*Q^4 + (-6)*H^2*P^4*Q^4 + (-8)*H^2*Q^6 + (-4)*H^2*P^2*Q^6 + (-1)*H^2*Q^8\n",
    "    coeff2=(32*H^2 + 16*P^2 + (-16)*H^2*P^2 + (-8)*H^2*P^4 + 4*H^2*P^6 + 16*Q^2 + 16*H^2*Q^2 + (-80)*H^2*P^2*Q^2 + 4*H^2*P^4*Q^2 + (-8)*H^2*Q^4 + (-4)*H^2*P^2*Q^4 + (-4)*H^2*Q^6)\n",
    "    coeff4=((-24)*H^2 + (-8)*H^2*P^2 + (-6)*H^2*P^4 + 8*H^2*Q^2 +  4*H^2*P^2*Q^2 + (-6)*H^2*Q^4)\n",
    "    coeff6=(8*H^2 + 4*H^2*P^2 + (-4)*H^2*Q^2)\n",
    "    coeff8=(-1)*H^2;\n",
    "    poynomial4=[coeff,coeff2,coeff4,coeff6,coeff8];\n",
    "    p1=[]\n",
    "    sol=roots(poynomial4,polish=true)\n",
    "    for k in 1:length(sol)\n",
    "        if abs(imag(sol[k]))<1e-15\n",
    "            push!(p1,sqrt(abs(sol[k])))\n",
    "        end\n",
    "    end\n",
    "    if length(p1)==2\n",
    "        return p1[2]\n",
    "    else\n",
    "        return zeros(0)\n",
    "    end\n",
    "end"
   ]
  },
  {
   "cell_type": "code",
   "execution_count": 42,
   "metadata": {},
   "outputs": [
    {
     "data": {
      "text/plain": [
       "P1_poly (generic function with 1 method)"
      ]
     },
     "execution_count": 42,
     "metadata": {},
     "output_type": "execute_result"
    }
   ],
   "source": [
    "function P1_poly(Q,P,H)  \n",
    "    coeff=(-16)*H^2 + 32*H^2*P^2 + (-24)*H^2*P^4 +8*H^2*P^6 + (-1)*H^2*P^8 + (-32)*H^2*Q^2 + 16*H^2*P^2*Q^2 + 8*H^2*P^4*Q^2 + (-4)*H^2*P^6*Q^2 + (-24)*H^2*Q^4 + (-8)*H^2*P^2*Q^4 + (-6)*H^2*P^4*Q^4 + (-8)*H^2*Q^6 + (-4)*H^2*P^2*Q^6 + (-1)*H^2*Q^8\n",
    "    coeff2=(32*H^2 + 16*P^2 + (-16)*H^2*P^2 + (-8)*H^2*P^4 + 4*H^2*P^6 + 16*Q^2 + 16*H^2*Q^2 + (-80)*H^2*P^2*Q^2 + 4*H^2*P^4*Q^2 + (-8)*H^2*Q^4 + (-4)*H^2*P^2*Q^4 + (-4)*H^2*Q^6)\n",
    "    coeff4=((-24)*H^2 + (-8)*H^2*P^2 + (-6)*H^2*P^4 + 8*H^2*Q^2 +  4*H^2*P^2*Q^2 + (-6)*H^2*Q^4)\n",
    "    coeff6=(8*H^2 + 4*H^2*P^2 + (-4)*H^2*Q^2)\n",
    "    coeff8=(-1)*H^2;\n",
    "    poynomial4=[coeff,coeff2,coeff4,coeff6,coeff8];\n",
    "    p1=[]\n",
    "    sol=roots(poynomial4)\n",
    "    for k in 1:length(sol)\n",
    "        if abs(imag(sol[k]))<1e-10\n",
    "            push!(p1,sqrt(abs(sol[k])))\n",
    "        end\n",
    "    end\n",
    "    return p1\n",
    "#     if length(p1)==2\n",
    "#         return p1[2]\n",
    "#     else\n",
    "#         return zeros(0)\n",
    "#     end\n",
    "end"
   ]
  },
  {
   "cell_type": "code",
   "execution_count": 183,
   "metadata": {},
   "outputs": [
    {
     "ename": "BoundsError",
     "evalue": "BoundsError",
     "output_type": "error",
     "traceback": [
      "BoundsError",
      "",
      "Stacktrace:",
      " [1] getindex(::Float64, ::Int64) at ./number.jl:78",
      " [2] top-level scope at util.jl:156",
      " [3] top-level scope at In[183]:1"
     ]
    }
   ],
   "source": [
    "@time P1_poly(Q,P,H)[2]"
   ]
  },
  {
   "cell_type": "code",
   "execution_count": 73,
   "metadata": {},
   "outputs": [
    {
     "name": "stdout",
     "output_type": "stream",
     "text": [
      "  0.000125 seconds (143 allocations: 6.188 KiB)\n"
     ]
    },
    {
     "data": {
      "text/plain": [
       "0.5226362419319427"
      ]
     },
     "execution_count": 73,
     "metadata": {},
     "output_type": "execute_result"
    }
   ],
   "source": [
    "@time P1_find_dimer_second(Q,P,H)"
   ]
  },
  {
   "cell_type": "code",
   "execution_count": 43,
   "metadata": {},
   "outputs": [
    {
     "data": {
      "text/plain": [
       "f (generic function with 1 method)"
      ]
     },
     "execution_count": 43,
     "metadata": {},
     "output_type": "execute_result"
    }
   ],
   "source": [
    "function f(P)\n",
    "    sol=P1_poly(0,P,H)\n",
    "    if length(sol)==2\n",
    "        return sol[2]\n",
    "#         return maximum(sol)\n",
    "    else\n",
    "        return 0\n",
    "    end\n",
    "end\n",
    "   \n",
    "\n",
    "# function f(Q)\n",
    "#     sol=P1_poly(Q,0,H)\n",
    "#     if length(sol)==2\n",
    "#         return minimum(sol)\n",
    "#     else\n",
    "#         return 0\n",
    "#     end\n",
    "# end\n",
    "    "
   ]
  },
  {
   "cell_type": "code",
   "execution_count": 45,
   "metadata": {},
   "outputs": [
    {
     "data": {
      "image/png": "[encoded data removed]",
      "text/plain": [
       "Figure(PyObject <Figure size 640x480 with 1 Axes>)"
      ]
     },
     "metadata": {},
     "output_type": "display_data"
    },
    {
     "data": {
      "text/plain": [
       "1-element Array{PyObject,1}:\n",
       " PyObject <matplotlib.lines.Line2D object at 0x7f6a6bc03dd8>"
      ]
     },
     "execution_count": 45,
     "metadata": {},
     "output_type": "execute_result"
    }
   ],
   "source": [
    "X=range(0, stop = 4, length = 1000000)\n",
    "N=length(X)\n",
    "Y2=zeros(N)\n",
    "for k in 1:N\n",
    "    Y2[k]=f(X[k])\n",
    "end\n",
    "plot(X,Y1)\n",
    "plot(X,Y2)"
   ]
  },
  {
   "cell_type": "code",
   "execution_count": 9,
   "metadata": {},
   "outputs": [
    {
     "ename": "MethodError",
     "evalue": "MethodError: no method matching iterate(::Nothing)\nClosest candidates are:\n  iterate(!Matched::Core.SimpleVector) at essentials.jl:604\n  iterate(!Matched::Core.SimpleVector, !Matched::Any) at essentials.jl:604\n  iterate(!Matched::ExponentialBackOff) at error.jl:214\n  ...",
     "output_type": "error",
     "traceback": [
      "MethodError: no method matching iterate(::Nothing)\nClosest candidates are:\n  iterate(!Matched::Core.SimpleVector) at essentials.jl:604\n  iterate(!Matched::Core.SimpleVector, !Matched::Any) at essentials.jl:604\n  iterate(!Matched::ExponentialBackOff) at error.jl:214\n  ...",
      "",
      "Stacktrace:",
      " [1] isempty(::Nothing) at ./essentials.jl:817",
      " [2] f(::Float64) at ./In[7]:3",
      " [3] top-level scope at ./In[9]:5"
     ]
    }
   ],
   "source": [
    "X=range(0, stop = 3, length = 100)\n",
    "N=length(X)\n",
    "Y=zeros(N)\n",
    "for k in 1:N\n",
    "    Y[k]=f(X[k])\n",
    "end\n",
    "plot(X,Y)\n"
   ]
  },
  {
   "cell_type": "code",
   "execution_count": 27,
   "metadata": {},
   "outputs": [
    {
     "ename": "UndefVarError",
     "evalue": "UndefVarError: sold not defined",
     "output_type": "error",
     "traceback": [
      "UndefVarError: sold not defined",
      "",
      "Stacktrace:",
      " [1] f(::Float64) at ./In[26]:3",
      " [2] top-level scope at ./In[27]:5"
     ]
    }
   ],
   "source": [
    "X=range(0, stop = 3, length = 1000000)\n",
    "N=length(X)\n",
    "Y2=zeros(N)\n",
    "for k in 1:N\n",
    "    Y2[k]=f(X[k])\n",
    "end\n",
    "plot(X,Y2)   "
   ]
  },
  {
   "cell_type": "code",
   "execution_count": 173,
   "metadata": {},
   "outputs": [],
   "source": [
    "X=range(0, stop = 3, length = 1000000)\n",
    "N=length(X)\n",
    "Y4=zeros(N)\n",
    "for k in 1:N\n",
    "    Y4[k]=f(X[k])\n",
    "end\n",
    "# plot(X,Y)\n",
    "# plot(X,Y1)   \n",
    "# plot(X,Y2)   \n",
    "# plot(X,Y3)  "
   ]
  },
  {
   "cell_type": "code",
   "execution_count": 171,
   "metadata": {},
   "outputs": [
    {
     "data": {
      "image/png": "[encoded data removed]",
      "text/plain": [
       "Figure(PyObject <Figure size 640x480 with 1 Axes>)"
      ]
     },
     "metadata": {},
     "output_type": "display_data"
    },
    {
     "data": {
      "text/plain": [
       "1-element Array{PyObject,1}:\n",
       " PyObject <matplotlib.lines.Line2D object at 0x7f3d8d360da0>"
      ]
     },
     "execution_count": 171,
     "metadata": {},
     "output_type": "execute_result"
    }
   ],
   "source": [
    "plot(X,Y3) "
   ]
  },
  {
   "cell_type": "code",
   "execution_count": 174,
   "metadata": {},
   "outputs": [
    {
     "data": {
      "image/png": "[encoded data removed]",
      "text/plain": [
       "Figure(PyObject <Figure size 640x480 with 1 Axes>)"
      ]
     },
     "metadata": {},
     "output_type": "display_data"
    },
    {
     "data": {
      "text/plain": [
       "1-element Array{PyObject,1}:\n",
       " PyObject <matplotlib.lines.Line2D object at 0x7f3d8ba89588>"
      ]
     },
     "execution_count": 174,
     "metadata": {},
     "output_type": "execute_result"
    }
   ],
   "source": [
    "plot(X,Y4) "
   ]
  },
  {
   "cell_type": "code",
   "execution_count": null,
   "metadata": {},
   "outputs": [],
   "source": []
  }
 ],
 "metadata": {
  "kernelspec": {
   "display_name": "Julia 1.2.0",
   "language": "julia",
   "name": "julia-1.2"
  },
  "language_info": {
   "file_extension": ".jl",
   "mimetype": "application/julia",
   "name": "julia",
   "version": "1.2.0"
  }
 },
 "nbformat": 4,
 "nbformat_minor": 2
}
